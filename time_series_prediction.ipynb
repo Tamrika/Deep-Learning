{
  "nbformat": 4,
  "nbformat_minor": 0,
  "metadata": {
    "accelerator": "GPU",
    "colab": {
      "name": "time_series_prediction.ipynb",
      "provenance": [],
      "collapsed_sections": [
        "ZGfS6OjZoHFf",
        "q3ge0FR_1egd",
        "EkAtONY2838A",
        "xLSk6iTyR7-2"
      ],
      "include_colab_link": true
    },
    "kernelspec": {
      "display_name": "Python 3",
      "language": "python",
      "name": "python3"
    },
    "language_info": {
      "codemirror_mode": {
        "name": "ipython",
        "version": 3
      },
      "file_extension": ".py",
      "mimetype": "text/x-python",
      "name": "python",
      "nbconvert_exporter": "python",
      "pygments_lexer": "ipython3",
      "version": "3.8.3"
    }
  },
  "cells": [
    {
      "cell_type": "markdown",
      "metadata": {
        "id": "view-in-github",
        "colab_type": "text"
      },
      "source": [
        "<a href=\"https://colab.research.google.com/github/Tamrika/Deep-Learning/blob/main/time_series_prediction.ipynb\" target=\"_parent\"><img src=\"https://colab.research.google.com/assets/colab-badge.svg\" alt=\"Open In Colab\"/></a>"
      ]
    },
    {
      "cell_type": "markdown",
      "metadata": {
        "id": "ulaj1-o9bwBP"
      },
      "source": [
        "# <center> Time Series Prediction Using Recurrent Neural Network</center>"
      ]
    },
    {
      "cell_type": "markdown",
      "metadata": {
        "id": "6ACxS-bQcFXd"
      },
      "source": [
        "This notebook demonstrates the application of recurrent neural networks in solving sequence prediction problem. \n",
        "\n",
        "We will be working with the weather forecasting problem, where we have access to a timeseries of data points coming from sensors installed on the roof of a building, such as temperature, air pressure, and humidity, which we use to predict what the temperature will be 24 hours after the last data point collected. This is a fairly challenging problem that exemplifies many common difficulties encountered when working with timeseries.\n",
        "\n",
        "We first start with a simple non-recurrent fully connected network as a benchmark. Then we create our first baseline recurrent model improve it using drop out regularization, bidirectional connections, and stacking more recurrent layers.  \n",
        "\n",
        "The materials covered in this lab are mostly from \"Deep Learning with Python\" book by Francois Chollet, chapter 6, section 3 and this [tensorflow tutorial](https://www.tensorflow.org/tutorials/structured_data/time_series) \n",
        "\n",
        "Before proceeding, at the top menu of this colab notebook select Runtime-->change runtime type--->GPU to seepd up running the code segments in the notebook."
      ]
    },
    {
      "cell_type": "markdown",
      "metadata": {
        "id": "ZGfS6OjZoHFf"
      },
      "source": [
        "## A temperature forecasting problem\n",
        "The weather dataset used in this lab is collected by  the Max Planck Institute for Biogeochemistry.\n",
        "This dataset contains 14 different features such as air temperature, atmospheric pressure, and humidity. These were collected every 10 minutes, beginning in 2003. For efficiency, you will use only the data collected between 2009 and 2016. This section of the dataset was prepared by François Chollet for his book Deep Learning with Python.\n",
        "\n",
        "Let's import the libraries we need and download the data into your colab session.\n"
      ]
    },
    {
      "cell_type": "code",
      "metadata": {
        "id": "PeFBAspDUWzX",
        "colab": {
          "base_uri": "https://localhost:8080/"
        },
        "outputId": "0d8ebe6d-1be4-4ef0-8262-ac089678143d"
      },
      "source": [
        "!pip install pandas\n",
        "import os\n",
        "import datetime\n",
        "import matplotlib as mpl\n",
        "import matplotlib.pyplot as plt\n",
        "import numpy as np\n",
        "import pandas as pd\n",
        "import tensorflow as tf\n",
        "from tensorflow import keras\n",
        "from tensorflow.keras import layers\n",
        "from tensorflow.keras import regularizers\n",
        "from tensorflow.keras.optimizers import Adam"
      ],
      "execution_count": null,
      "outputs": [
        {
          "output_type": "stream",
          "text": [
            "Requirement already satisfied: pandas in /usr/local/lib/python3.6/dist-packages (1.1.3)\n",
            "Requirement already satisfied: numpy>=1.15.4 in /usr/local/lib/python3.6/dist-packages (from pandas) (1.18.5)\n",
            "Requirement already satisfied: pytz>=2017.2 in /usr/local/lib/python3.6/dist-packages (from pandas) (2018.9)\n",
            "Requirement already satisfied: python-dateutil>=2.7.3 in /usr/local/lib/python3.6/dist-packages (from pandas) (2.8.1)\n",
            "Requirement already satisfied: six>=1.5 in /usr/local/lib/python3.6/dist-packages (from python-dateutil>=2.7.3->pandas) (1.15.0)\n"
          ],
          "name": "stdout"
        }
      ]
    },
    {
      "cell_type": "code",
      "metadata": {
        "id": "0pzoThwwUNbl",
        "colab": {
          "base_uri": "https://localhost:8080/"
        },
        "outputId": "89512acb-386a-4895-cc52-5a23ec26411e"
      },
      "source": [
        "zip_path = tf.keras.utils.get_file(\n",
        "    origin='https://storage.googleapis.com/tensorflow/tf-keras-datasets/jena_climate_2009_2016.csv.zip',\n",
        "    fname='jena_climate_2009_2016.csv.zip',\n",
        "    extract=True)\n",
        "df = pd.read_csv(zip_path)\n"
      ],
      "execution_count": null,
      "outputs": [
        {
          "output_type": "stream",
          "text": [
            "Downloading data from https://storage.googleapis.com/tensorflow/tf-keras-datasets/jena_climate_2009_2016.csv.zip\n",
            "13574144/13568290 [==============================] - 0s 0us/step\n"
          ],
          "name": "stdout"
        }
      ]
    },
    {
      "cell_type": "markdown",
      "metadata": {
        "id": "UKD5k824U_ha"
      },
      "source": [
        "Let's take a look at the few records in the data:"
      ]
    },
    {
      "cell_type": "code",
      "metadata": {
        "id": "kG7zLLP8Xeh_",
        "colab": {
          "base_uri": "https://localhost:8080/"
        },
        "outputId": "0ab80fbc-647f-4b0c-dc10-20f02a44afd8"
      },
      "source": [
        "df.head(10)"
      ],
      "execution_count": null,
      "outputs": [
        {
          "output_type": "execute_result",
          "data": {
            "text/html": [
              "<div>\n",
              "<style scoped>\n",
              "    .dataframe tbody tr th:only-of-type {\n",
              "        vertical-align: middle;\n",
              "    }\n",
              "\n",
              "    .dataframe tbody tr th {\n",
              "        vertical-align: top;\n",
              "    }\n",
              "\n",
              "    .dataframe thead th {\n",
              "        text-align: right;\n",
              "    }\n",
              "</style>\n",
              "<table border=\"1\" class=\"dataframe\">\n",
              "  <thead>\n",
              "    <tr style=\"text-align: right;\">\n",
              "      <th></th>\n",
              "      <th>Date Time</th>\n",
              "      <th>p (mbar)</th>\n",
              "      <th>T (degC)</th>\n",
              "      <th>Tpot (K)</th>\n",
              "      <th>Tdew (degC)</th>\n",
              "      <th>rh (%)</th>\n",
              "      <th>VPmax (mbar)</th>\n",
              "      <th>VPact (mbar)</th>\n",
              "      <th>VPdef (mbar)</th>\n",
              "      <th>sh (g/kg)</th>\n",
              "      <th>H2OC (mmol/mol)</th>\n",
              "      <th>rho (g/m**3)</th>\n",
              "      <th>wv (m/s)</th>\n",
              "      <th>max. wv (m/s)</th>\n",
              "      <th>wd (deg)</th>\n",
              "    </tr>\n",
              "  </thead>\n",
              "  <tbody>\n",
              "    <tr>\n",
              "      <th>0</th>\n",
              "      <td>01.01.2009 00:10:00</td>\n",
              "      <td>996.52</td>\n",
              "      <td>-8.02</td>\n",
              "      <td>265.40</td>\n",
              "      <td>-8.90</td>\n",
              "      <td>93.3</td>\n",
              "      <td>3.33</td>\n",
              "      <td>3.11</td>\n",
              "      <td>0.22</td>\n",
              "      <td>1.94</td>\n",
              "      <td>3.12</td>\n",
              "      <td>1307.75</td>\n",
              "      <td>1.03</td>\n",
              "      <td>1.75</td>\n",
              "      <td>152.3</td>\n",
              "    </tr>\n",
              "    <tr>\n",
              "      <th>1</th>\n",
              "      <td>01.01.2009 00:20:00</td>\n",
              "      <td>996.57</td>\n",
              "      <td>-8.41</td>\n",
              "      <td>265.01</td>\n",
              "      <td>-9.28</td>\n",
              "      <td>93.4</td>\n",
              "      <td>3.23</td>\n",
              "      <td>3.02</td>\n",
              "      <td>0.21</td>\n",
              "      <td>1.89</td>\n",
              "      <td>3.03</td>\n",
              "      <td>1309.80</td>\n",
              "      <td>0.72</td>\n",
              "      <td>1.50</td>\n",
              "      <td>136.1</td>\n",
              "    </tr>\n",
              "    <tr>\n",
              "      <th>2</th>\n",
              "      <td>01.01.2009 00:30:00</td>\n",
              "      <td>996.53</td>\n",
              "      <td>-8.51</td>\n",
              "      <td>264.91</td>\n",
              "      <td>-9.31</td>\n",
              "      <td>93.9</td>\n",
              "      <td>3.21</td>\n",
              "      <td>3.01</td>\n",
              "      <td>0.20</td>\n",
              "      <td>1.88</td>\n",
              "      <td>3.02</td>\n",
              "      <td>1310.24</td>\n",
              "      <td>0.19</td>\n",
              "      <td>0.63</td>\n",
              "      <td>171.6</td>\n",
              "    </tr>\n",
              "    <tr>\n",
              "      <th>3</th>\n",
              "      <td>01.01.2009 00:40:00</td>\n",
              "      <td>996.51</td>\n",
              "      <td>-8.31</td>\n",
              "      <td>265.12</td>\n",
              "      <td>-9.07</td>\n",
              "      <td>94.2</td>\n",
              "      <td>3.26</td>\n",
              "      <td>3.07</td>\n",
              "      <td>0.19</td>\n",
              "      <td>1.92</td>\n",
              "      <td>3.08</td>\n",
              "      <td>1309.19</td>\n",
              "      <td>0.34</td>\n",
              "      <td>0.50</td>\n",
              "      <td>198.0</td>\n",
              "    </tr>\n",
              "    <tr>\n",
              "      <th>4</th>\n",
              "      <td>01.01.2009 00:50:00</td>\n",
              "      <td>996.51</td>\n",
              "      <td>-8.27</td>\n",
              "      <td>265.15</td>\n",
              "      <td>-9.04</td>\n",
              "      <td>94.1</td>\n",
              "      <td>3.27</td>\n",
              "      <td>3.08</td>\n",
              "      <td>0.19</td>\n",
              "      <td>1.92</td>\n",
              "      <td>3.09</td>\n",
              "      <td>1309.00</td>\n",
              "      <td>0.32</td>\n",
              "      <td>0.63</td>\n",
              "      <td>214.3</td>\n",
              "    </tr>\n",
              "    <tr>\n",
              "      <th>5</th>\n",
              "      <td>01.01.2009 01:00:00</td>\n",
              "      <td>996.50</td>\n",
              "      <td>-8.05</td>\n",
              "      <td>265.38</td>\n",
              "      <td>-8.78</td>\n",
              "      <td>94.4</td>\n",
              "      <td>3.33</td>\n",
              "      <td>3.14</td>\n",
              "      <td>0.19</td>\n",
              "      <td>1.96</td>\n",
              "      <td>3.15</td>\n",
              "      <td>1307.86</td>\n",
              "      <td>0.21</td>\n",
              "      <td>0.63</td>\n",
              "      <td>192.7</td>\n",
              "    </tr>\n",
              "    <tr>\n",
              "      <th>6</th>\n",
              "      <td>01.01.2009 01:10:00</td>\n",
              "      <td>996.50</td>\n",
              "      <td>-7.62</td>\n",
              "      <td>265.81</td>\n",
              "      <td>-8.30</td>\n",
              "      <td>94.8</td>\n",
              "      <td>3.44</td>\n",
              "      <td>3.26</td>\n",
              "      <td>0.18</td>\n",
              "      <td>2.04</td>\n",
              "      <td>3.27</td>\n",
              "      <td>1305.68</td>\n",
              "      <td>0.18</td>\n",
              "      <td>0.63</td>\n",
              "      <td>166.5</td>\n",
              "    </tr>\n",
              "    <tr>\n",
              "      <th>7</th>\n",
              "      <td>01.01.2009 01:20:00</td>\n",
              "      <td>996.50</td>\n",
              "      <td>-7.62</td>\n",
              "      <td>265.81</td>\n",
              "      <td>-8.36</td>\n",
              "      <td>94.4</td>\n",
              "      <td>3.44</td>\n",
              "      <td>3.25</td>\n",
              "      <td>0.19</td>\n",
              "      <td>2.03</td>\n",
              "      <td>3.26</td>\n",
              "      <td>1305.69</td>\n",
              "      <td>0.19</td>\n",
              "      <td>0.50</td>\n",
              "      <td>118.6</td>\n",
              "    </tr>\n",
              "    <tr>\n",
              "      <th>8</th>\n",
              "      <td>01.01.2009 01:30:00</td>\n",
              "      <td>996.50</td>\n",
              "      <td>-7.91</td>\n",
              "      <td>265.52</td>\n",
              "      <td>-8.73</td>\n",
              "      <td>93.8</td>\n",
              "      <td>3.36</td>\n",
              "      <td>3.15</td>\n",
              "      <td>0.21</td>\n",
              "      <td>1.97</td>\n",
              "      <td>3.16</td>\n",
              "      <td>1307.17</td>\n",
              "      <td>0.28</td>\n",
              "      <td>0.75</td>\n",
              "      <td>188.5</td>\n",
              "    </tr>\n",
              "    <tr>\n",
              "      <th>9</th>\n",
              "      <td>01.01.2009 01:40:00</td>\n",
              "      <td>996.53</td>\n",
              "      <td>-8.43</td>\n",
              "      <td>264.99</td>\n",
              "      <td>-9.34</td>\n",
              "      <td>93.1</td>\n",
              "      <td>3.23</td>\n",
              "      <td>3.00</td>\n",
              "      <td>0.22</td>\n",
              "      <td>1.88</td>\n",
              "      <td>3.02</td>\n",
              "      <td>1309.85</td>\n",
              "      <td>0.59</td>\n",
              "      <td>0.88</td>\n",
              "      <td>185.0</td>\n",
              "    </tr>\n",
              "  </tbody>\n",
              "</table>\n",
              "</div>"
            ],
            "text/plain": [
              "             Date Time  p (mbar)  T (degC)  ...  wv (m/s)  max. wv (m/s)  wd (deg)\n",
              "0  01.01.2009 00:10:00    996.52     -8.02  ...      1.03           1.75     152.3\n",
              "1  01.01.2009 00:20:00    996.57     -8.41  ...      0.72           1.50     136.1\n",
              "2  01.01.2009 00:30:00    996.53     -8.51  ...      0.19           0.63     171.6\n",
              "3  01.01.2009 00:40:00    996.51     -8.31  ...      0.34           0.50     198.0\n",
              "4  01.01.2009 00:50:00    996.51     -8.27  ...      0.32           0.63     214.3\n",
              "5  01.01.2009 01:00:00    996.50     -8.05  ...      0.21           0.63     192.7\n",
              "6  01.01.2009 01:10:00    996.50     -7.62  ...      0.18           0.63     166.5\n",
              "7  01.01.2009 01:20:00    996.50     -7.62  ...      0.19           0.50     118.6\n",
              "8  01.01.2009 01:30:00    996.50     -7.91  ...      0.28           0.75     188.5\n",
              "9  01.01.2009 01:40:00    996.53     -8.43  ...      0.59           0.88     185.0\n",
              "\n",
              "[10 rows x 15 columns]"
            ]
          },
          "metadata": {
            "tags": []
          },
          "execution_count": 3
        }
      ]
    },
    {
      "cell_type": "markdown",
      "metadata": {
        "id": "zk3Ql8aVoSXo"
      },
      "source": [
        "## Preparing data for Machine Learning\n"
      ]
    },
    {
      "cell_type": "markdown",
      "metadata": {
        "id": "q3ge0FR_1egd"
      },
      "source": [
        "### Data Cleaning"
      ]
    },
    {
      "cell_type": "markdown",
      "metadata": {
        "id": "wnIXNzs-Xk9l"
      },
      "source": [
        "The data is recorded in ten minutes intervals (rows are 10 minutes apart). We want to do **hourly prediction**, that is, we want to predict the temprature in the next hour given the previous hours. So we subsample data from 10 minutes intervals to one hour intervals by taking every 6 records starting from index 5.\n",
        "\n"
      ]
    },
    {
      "cell_type": "code",
      "metadata": {
        "id": "bUyog4FLmx4J",
        "colab": {
          "base_uri": "https://localhost:8080/"
        },
        "outputId": "459cd39a-e74b-4718-c461-63f3efddc36f"
      },
      "source": [
        "# slice [start:stop:step], starting from index 5 take every 6th record.\n",
        "df = df[5::6]\n",
        "\n",
        "#take a look at the summary statistics of each column\n",
        "df.describe().transpose()"
      ],
      "execution_count": null,
      "outputs": [
        {
          "output_type": "execute_result",
          "data": {
            "text/html": [
              "<div>\n",
              "<style scoped>\n",
              "    .dataframe tbody tr th:only-of-type {\n",
              "        vertical-align: middle;\n",
              "    }\n",
              "\n",
              "    .dataframe tbody tr th {\n",
              "        vertical-align: top;\n",
              "    }\n",
              "\n",
              "    .dataframe thead th {\n",
              "        text-align: right;\n",
              "    }\n",
              "</style>\n",
              "<table border=\"1\" class=\"dataframe\">\n",
              "  <thead>\n",
              "    <tr style=\"text-align: right;\">\n",
              "      <th></th>\n",
              "      <th>count</th>\n",
              "      <th>mean</th>\n",
              "      <th>std</th>\n",
              "      <th>min</th>\n",
              "      <th>25%</th>\n",
              "      <th>50%</th>\n",
              "      <th>75%</th>\n",
              "      <th>max</th>\n",
              "    </tr>\n",
              "  </thead>\n",
              "  <tbody>\n",
              "    <tr>\n",
              "      <th>p (mbar)</th>\n",
              "      <td>70091.0</td>\n",
              "      <td>989.212842</td>\n",
              "      <td>8.358886</td>\n",
              "      <td>913.60</td>\n",
              "      <td>984.20</td>\n",
              "      <td>989.57</td>\n",
              "      <td>994.720</td>\n",
              "      <td>1015.29</td>\n",
              "    </tr>\n",
              "    <tr>\n",
              "      <th>T (degC)</th>\n",
              "      <td>70091.0</td>\n",
              "      <td>9.450482</td>\n",
              "      <td>8.423384</td>\n",
              "      <td>-22.76</td>\n",
              "      <td>3.35</td>\n",
              "      <td>9.41</td>\n",
              "      <td>15.480</td>\n",
              "      <td>37.28</td>\n",
              "    </tr>\n",
              "    <tr>\n",
              "      <th>Tpot (K)</th>\n",
              "      <td>70091.0</td>\n",
              "      <td>283.493086</td>\n",
              "      <td>8.504424</td>\n",
              "      <td>250.85</td>\n",
              "      <td>277.44</td>\n",
              "      <td>283.46</td>\n",
              "      <td>289.530</td>\n",
              "      <td>311.21</td>\n",
              "    </tr>\n",
              "    <tr>\n",
              "      <th>Tdew (degC)</th>\n",
              "      <td>70091.0</td>\n",
              "      <td>4.956471</td>\n",
              "      <td>6.730081</td>\n",
              "      <td>-24.80</td>\n",
              "      <td>0.24</td>\n",
              "      <td>5.21</td>\n",
              "      <td>10.080</td>\n",
              "      <td>23.06</td>\n",
              "    </tr>\n",
              "    <tr>\n",
              "      <th>rh (%)</th>\n",
              "      <td>70091.0</td>\n",
              "      <td>76.009788</td>\n",
              "      <td>16.474920</td>\n",
              "      <td>13.88</td>\n",
              "      <td>65.21</td>\n",
              "      <td>79.30</td>\n",
              "      <td>89.400</td>\n",
              "      <td>100.00</td>\n",
              "    </tr>\n",
              "    <tr>\n",
              "      <th>VPmax (mbar)</th>\n",
              "      <td>70091.0</td>\n",
              "      <td>13.576576</td>\n",
              "      <td>7.739883</td>\n",
              "      <td>0.97</td>\n",
              "      <td>7.77</td>\n",
              "      <td>11.82</td>\n",
              "      <td>17.610</td>\n",
              "      <td>63.77</td>\n",
              "    </tr>\n",
              "    <tr>\n",
              "      <th>VPact (mbar)</th>\n",
              "      <td>70091.0</td>\n",
              "      <td>9.533968</td>\n",
              "      <td>4.183658</td>\n",
              "      <td>0.81</td>\n",
              "      <td>6.22</td>\n",
              "      <td>8.86</td>\n",
              "      <td>12.360</td>\n",
              "      <td>28.25</td>\n",
              "    </tr>\n",
              "    <tr>\n",
              "      <th>VPdef (mbar)</th>\n",
              "      <td>70091.0</td>\n",
              "      <td>4.042536</td>\n",
              "      <td>4.898549</td>\n",
              "      <td>0.00</td>\n",
              "      <td>0.87</td>\n",
              "      <td>2.19</td>\n",
              "      <td>5.300</td>\n",
              "      <td>46.01</td>\n",
              "    </tr>\n",
              "    <tr>\n",
              "      <th>sh (g/kg)</th>\n",
              "      <td>70091.0</td>\n",
              "      <td>6.022560</td>\n",
              "      <td>2.655812</td>\n",
              "      <td>0.51</td>\n",
              "      <td>3.92</td>\n",
              "      <td>5.59</td>\n",
              "      <td>7.800</td>\n",
              "      <td>18.07</td>\n",
              "    </tr>\n",
              "    <tr>\n",
              "      <th>H2OC (mmol/mol)</th>\n",
              "      <td>70091.0</td>\n",
              "      <td>9.640437</td>\n",
              "      <td>4.234862</td>\n",
              "      <td>0.81</td>\n",
              "      <td>6.29</td>\n",
              "      <td>8.96</td>\n",
              "      <td>12.490</td>\n",
              "      <td>28.74</td>\n",
              "    </tr>\n",
              "    <tr>\n",
              "      <th>rho (g/m**3)</th>\n",
              "      <td>70091.0</td>\n",
              "      <td>1216.061232</td>\n",
              "      <td>39.974263</td>\n",
              "      <td>1059.45</td>\n",
              "      <td>1187.47</td>\n",
              "      <td>1213.80</td>\n",
              "      <td>1242.765</td>\n",
              "      <td>1393.54</td>\n",
              "    </tr>\n",
              "    <tr>\n",
              "      <th>wv (m/s)</th>\n",
              "      <td>70091.0</td>\n",
              "      <td>1.702567</td>\n",
              "      <td>65.447512</td>\n",
              "      <td>-9999.00</td>\n",
              "      <td>0.99</td>\n",
              "      <td>1.76</td>\n",
              "      <td>2.860</td>\n",
              "      <td>14.01</td>\n",
              "    </tr>\n",
              "    <tr>\n",
              "      <th>max. wv (m/s)</th>\n",
              "      <td>70091.0</td>\n",
              "      <td>2.963041</td>\n",
              "      <td>75.597657</td>\n",
              "      <td>-9999.00</td>\n",
              "      <td>1.76</td>\n",
              "      <td>2.98</td>\n",
              "      <td>4.740</td>\n",
              "      <td>23.50</td>\n",
              "    </tr>\n",
              "    <tr>\n",
              "      <th>wd (deg)</th>\n",
              "      <td>70091.0</td>\n",
              "      <td>174.789095</td>\n",
              "      <td>86.619431</td>\n",
              "      <td>0.00</td>\n",
              "      <td>125.30</td>\n",
              "      <td>198.10</td>\n",
              "      <td>234.000</td>\n",
              "      <td>360.00</td>\n",
              "    </tr>\n",
              "  </tbody>\n",
              "</table>\n",
              "</div>"
            ],
            "text/plain": [
              "                   count         mean        std  ...      50%       75%      max\n",
              "p (mbar)         70091.0   989.212842   8.358886  ...   989.57   994.720  1015.29\n",
              "T (degC)         70091.0     9.450482   8.423384  ...     9.41    15.480    37.28\n",
              "Tpot (K)         70091.0   283.493086   8.504424  ...   283.46   289.530   311.21\n",
              "Tdew (degC)      70091.0     4.956471   6.730081  ...     5.21    10.080    23.06\n",
              "rh (%)           70091.0    76.009788  16.474920  ...    79.30    89.400   100.00\n",
              "VPmax (mbar)     70091.0    13.576576   7.739883  ...    11.82    17.610    63.77\n",
              "VPact (mbar)     70091.0     9.533968   4.183658  ...     8.86    12.360    28.25\n",
              "VPdef (mbar)     70091.0     4.042536   4.898549  ...     2.19     5.300    46.01\n",
              "sh (g/kg)        70091.0     6.022560   2.655812  ...     5.59     7.800    18.07\n",
              "H2OC (mmol/mol)  70091.0     9.640437   4.234862  ...     8.96    12.490    28.74\n",
              "rho (g/m**3)     70091.0  1216.061232  39.974263  ...  1213.80  1242.765  1393.54\n",
              "wv (m/s)         70091.0     1.702567  65.447512  ...     1.76     2.860    14.01\n",
              "max. wv (m/s)    70091.0     2.963041  75.597657  ...     2.98     4.740    23.50\n",
              "wd (deg)         70091.0   174.789095  86.619431  ...   198.10   234.000   360.00\n",
              "\n",
              "[14 rows x 8 columns]"
            ]
          },
          "metadata": {
            "tags": []
          },
          "execution_count": 4
        }
      ]
    },
    {
      "cell_type": "markdown",
      "metadata": {
        "id": "gDMHYliqzgvx"
      },
      "source": [
        "One thing that should stand out is the min value of the wind velocity, wv (m/s) and max. wv (m/s) columns. This -9999 is likely erroneous. There's a separate wind direction column, so the velocity should be >=0. Replace it with zeros:"
      ]
    },
    {
      "cell_type": "code",
      "metadata": {
        "id": "ZwrNHO6koU-v",
        "colab": {
          "base_uri": "https://localhost:8080/"
        },
        "outputId": "a1ebc497-5681-46cc-95b1-bbc90f4aa64f"
      },
      "source": [
        "#replacing -9999 with 0 in wv column\n",
        "wv= df['wv (m/s)']\n",
        "df.loc[wv==-9999.00, 'wv (m/s)']=0\n",
        "\n",
        "#replacing -9999 with 0 in mwv column\n",
        "mwv=df['max. wv (m/s)']\n",
        "df.loc[mwv==-9999.00,'max. wv (m/s)']=0\n",
        "\n",
        "df.describe().transpose()"
      ],
      "execution_count": null,
      "outputs": [
        {
          "output_type": "execute_result",
          "data": {
            "text/html": [
              "<div>\n",
              "<style scoped>\n",
              "    .dataframe tbody tr th:only-of-type {\n",
              "        vertical-align: middle;\n",
              "    }\n",
              "\n",
              "    .dataframe tbody tr th {\n",
              "        vertical-align: top;\n",
              "    }\n",
              "\n",
              "    .dataframe thead th {\n",
              "        text-align: right;\n",
              "    }\n",
              "</style>\n",
              "<table border=\"1\" class=\"dataframe\">\n",
              "  <thead>\n",
              "    <tr style=\"text-align: right;\">\n",
              "      <th></th>\n",
              "      <th>count</th>\n",
              "      <th>mean</th>\n",
              "      <th>std</th>\n",
              "      <th>min</th>\n",
              "      <th>25%</th>\n",
              "      <th>50%</th>\n",
              "      <th>75%</th>\n",
              "      <th>max</th>\n",
              "    </tr>\n",
              "  </thead>\n",
              "  <tbody>\n",
              "    <tr>\n",
              "      <th>p (mbar)</th>\n",
              "      <td>70091.0</td>\n",
              "      <td>989.212842</td>\n",
              "      <td>8.358886</td>\n",
              "      <td>913.60</td>\n",
              "      <td>984.20</td>\n",
              "      <td>989.57</td>\n",
              "      <td>994.720</td>\n",
              "      <td>1015.29</td>\n",
              "    </tr>\n",
              "    <tr>\n",
              "      <th>T (degC)</th>\n",
              "      <td>70091.0</td>\n",
              "      <td>9.450482</td>\n",
              "      <td>8.423384</td>\n",
              "      <td>-22.76</td>\n",
              "      <td>3.35</td>\n",
              "      <td>9.41</td>\n",
              "      <td>15.480</td>\n",
              "      <td>37.28</td>\n",
              "    </tr>\n",
              "    <tr>\n",
              "      <th>Tpot (K)</th>\n",
              "      <td>70091.0</td>\n",
              "      <td>283.493086</td>\n",
              "      <td>8.504424</td>\n",
              "      <td>250.85</td>\n",
              "      <td>277.44</td>\n",
              "      <td>283.46</td>\n",
              "      <td>289.530</td>\n",
              "      <td>311.21</td>\n",
              "    </tr>\n",
              "    <tr>\n",
              "      <th>Tdew (degC)</th>\n",
              "      <td>70091.0</td>\n",
              "      <td>4.956471</td>\n",
              "      <td>6.730081</td>\n",
              "      <td>-24.80</td>\n",
              "      <td>0.24</td>\n",
              "      <td>5.21</td>\n",
              "      <td>10.080</td>\n",
              "      <td>23.06</td>\n",
              "    </tr>\n",
              "    <tr>\n",
              "      <th>rh (%)</th>\n",
              "      <td>70091.0</td>\n",
              "      <td>76.009788</td>\n",
              "      <td>16.474920</td>\n",
              "      <td>13.88</td>\n",
              "      <td>65.21</td>\n",
              "      <td>79.30</td>\n",
              "      <td>89.400</td>\n",
              "      <td>100.00</td>\n",
              "    </tr>\n",
              "    <tr>\n",
              "      <th>VPmax (mbar)</th>\n",
              "      <td>70091.0</td>\n",
              "      <td>13.576576</td>\n",
              "      <td>7.739883</td>\n",
              "      <td>0.97</td>\n",
              "      <td>7.77</td>\n",
              "      <td>11.82</td>\n",
              "      <td>17.610</td>\n",
              "      <td>63.77</td>\n",
              "    </tr>\n",
              "    <tr>\n",
              "      <th>VPact (mbar)</th>\n",
              "      <td>70091.0</td>\n",
              "      <td>9.533968</td>\n",
              "      <td>4.183658</td>\n",
              "      <td>0.81</td>\n",
              "      <td>6.22</td>\n",
              "      <td>8.86</td>\n",
              "      <td>12.360</td>\n",
              "      <td>28.25</td>\n",
              "    </tr>\n",
              "    <tr>\n",
              "      <th>VPdef (mbar)</th>\n",
              "      <td>70091.0</td>\n",
              "      <td>4.042536</td>\n",
              "      <td>4.898549</td>\n",
              "      <td>0.00</td>\n",
              "      <td>0.87</td>\n",
              "      <td>2.19</td>\n",
              "      <td>5.300</td>\n",
              "      <td>46.01</td>\n",
              "    </tr>\n",
              "    <tr>\n",
              "      <th>sh (g/kg)</th>\n",
              "      <td>70091.0</td>\n",
              "      <td>6.022560</td>\n",
              "      <td>2.655812</td>\n",
              "      <td>0.51</td>\n",
              "      <td>3.92</td>\n",
              "      <td>5.59</td>\n",
              "      <td>7.800</td>\n",
              "      <td>18.07</td>\n",
              "    </tr>\n",
              "    <tr>\n",
              "      <th>H2OC (mmol/mol)</th>\n",
              "      <td>70091.0</td>\n",
              "      <td>9.640437</td>\n",
              "      <td>4.234862</td>\n",
              "      <td>0.81</td>\n",
              "      <td>6.29</td>\n",
              "      <td>8.96</td>\n",
              "      <td>12.490</td>\n",
              "      <td>28.74</td>\n",
              "    </tr>\n",
              "    <tr>\n",
              "      <th>rho (g/m**3)</th>\n",
              "      <td>70091.0</td>\n",
              "      <td>1216.061232</td>\n",
              "      <td>39.974263</td>\n",
              "      <td>1059.45</td>\n",
              "      <td>1187.47</td>\n",
              "      <td>1213.80</td>\n",
              "      <td>1242.765</td>\n",
              "      <td>1393.54</td>\n",
              "    </tr>\n",
              "    <tr>\n",
              "      <th>wv (m/s)</th>\n",
              "      <td>70091.0</td>\n",
              "      <td>2.130539</td>\n",
              "      <td>1.543098</td>\n",
              "      <td>0.00</td>\n",
              "      <td>0.99</td>\n",
              "      <td>1.76</td>\n",
              "      <td>2.860</td>\n",
              "      <td>14.01</td>\n",
              "    </tr>\n",
              "    <tr>\n",
              "      <th>max. wv (m/s)</th>\n",
              "      <td>70091.0</td>\n",
              "      <td>3.533671</td>\n",
              "      <td>2.343417</td>\n",
              "      <td>0.00</td>\n",
              "      <td>1.76</td>\n",
              "      <td>2.98</td>\n",
              "      <td>4.740</td>\n",
              "      <td>23.50</td>\n",
              "    </tr>\n",
              "    <tr>\n",
              "      <th>wd (deg)</th>\n",
              "      <td>70091.0</td>\n",
              "      <td>174.789095</td>\n",
              "      <td>86.619431</td>\n",
              "      <td>0.00</td>\n",
              "      <td>125.30</td>\n",
              "      <td>198.10</td>\n",
              "      <td>234.000</td>\n",
              "      <td>360.00</td>\n",
              "    </tr>\n",
              "  </tbody>\n",
              "</table>\n",
              "</div>"
            ],
            "text/plain": [
              "                   count         mean        std  ...      50%       75%      max\n",
              "p (mbar)         70091.0   989.212842   8.358886  ...   989.57   994.720  1015.29\n",
              "T (degC)         70091.0     9.450482   8.423384  ...     9.41    15.480    37.28\n",
              "Tpot (K)         70091.0   283.493086   8.504424  ...   283.46   289.530   311.21\n",
              "Tdew (degC)      70091.0     4.956471   6.730081  ...     5.21    10.080    23.06\n",
              "rh (%)           70091.0    76.009788  16.474920  ...    79.30    89.400   100.00\n",
              "VPmax (mbar)     70091.0    13.576576   7.739883  ...    11.82    17.610    63.77\n",
              "VPact (mbar)     70091.0     9.533968   4.183658  ...     8.86    12.360    28.25\n",
              "VPdef (mbar)     70091.0     4.042536   4.898549  ...     2.19     5.300    46.01\n",
              "sh (g/kg)        70091.0     6.022560   2.655812  ...     5.59     7.800    18.07\n",
              "H2OC (mmol/mol)  70091.0     9.640437   4.234862  ...     8.96    12.490    28.74\n",
              "rho (g/m**3)     70091.0  1216.061232  39.974263  ...  1213.80  1242.765  1393.54\n",
              "wv (m/s)         70091.0     2.130539   1.543098  ...     1.76     2.860    14.01\n",
              "max. wv (m/s)    70091.0     3.533671   2.343417  ...     2.98     4.740    23.50\n",
              "wd (deg)         70091.0   174.789095  86.619431  ...   198.10   234.000   360.00\n",
              "\n",
              "[14 rows x 8 columns]"
            ]
          },
          "metadata": {
            "tags": []
          },
          "execution_count": 5
        }
      ]
    },
    {
      "cell_type": "markdown",
      "metadata": {
        "id": "EkAtONY2838A"
      },
      "source": [
        "### Feature Engineering\n",
        "There are a couple features that need further treatment.  The last column of the data, wd (deg), gives the wind direction in units of degrees. Angles do not make good model inputs, 360° and 0° should be close to each other, and wrap around smoothly. Direction shouldn't matter if the wind is not blowing. \n",
        "The [tensorflow tutorial](https://www.tensorflow.org/tutorials/structured_data/time_series) does a couple useful feature engineering on the wind direction and its velacity. The wind forms a vector ( the direction is the angle and the velocity is the magnitude of the vector). We can convert this vector to its X and Y. We can get the x and y coordinates by multiplying the velocity by the cosine and sine of the wind radians respectively.  This conversion will make the distance between the wind vectors meaningful for the model.\n",
        "\n",
        "We can ndo this as follows:"
      ]
    },
    {
      "cell_type": "code",
      "metadata": {
        "id": "1hsHm1Ai-_aO"
      },
      "source": [
        "#removing the wind velocity (wv (m/s)) and max wind velocity (max. wv (m/s))\n",
        "wv = df.pop('wv (m/s)')\n",
        "max_wv = df.pop('max. wv (m/s)')\n",
        "\n",
        "# remove the wind degree column and convert it to radians.\n",
        "wd_rad = df.pop('wd (deg)')*np.pi / 180\n",
        "\n",
        "# Calculate the wind x and y components of the wind vector.\n",
        "df['Wx'] = wv*np.cos(wd_rad)\n",
        "df['Wy'] = wv*np.sin(wd_rad)\n",
        "\n",
        "# Calculate the max wind x and y components of the max wind vector.\n",
        "df['max Wx'] = max_wv*np.cos(wd_rad)\n",
        "df['max Wy'] = max_wv*np.sin(wd_rad)"
      ],
      "execution_count": null,
      "outputs": []
    },
    {
      "cell_type": "markdown",
      "metadata": {
        "id": "0rzgC-XCAEQ4"
      },
      "source": [
        "Another useful feature engineering suggested by tensorflow is to convert the date time to time of the day and time of the year. These two features are intuitively more predictive of the temprature than the absolute date/time value.\n",
        "\n",
        "Since the weather data has clear daily and yearly periodicity, we can look at day and year as  unit circles and then model the time of day and day of the year as a vector in that circle. similar to the wind feature, we can use sin and cosine to get the x and y components of the time vector.\n",
        "\n",
        "The following code segment first converts the time stamp to the seconds. \n",
        "It then divides the time stamp by the number of seconds in a day and the number of seconds in a year and  multiply them by $2\\pi$ to get the radians for the time of day and day of year vectors. Finally it takes the sin and cosine of the radians to compute the x and y components for each vector (similar to what we did for the wind)\n",
        "\n",
        "converting the time stamp this way captures the daily and yearly periodicity of the temprature.\n",
        "\n"
      ]
    },
    {
      "cell_type": "code",
      "metadata": {
        "id": "rJgMBGiTEmG0",
        "colab": {
          "base_uri": "https://localhost:8080/"
        },
        "outputId": "facbf9ee-e6a4-4a68-92bd-cb087b70a041"
      },
      "source": [
        "#convert date time from string to datetime object. \n",
        "date_time = pd.to_datetime(df.pop('Date Time'), format='%d.%m.%Y %H:%M:%S')\n",
        "\n",
        "#get the time stamp in seconds\n",
        "timestamp_seconds = date_time.astype('int64') // 10**9\n",
        "\n",
        "# compute the number of seconds in a day and year\n",
        "seconds_in_a_day= 24*60*60\n",
        "seconds_in_a_year=(365.2425)*seconds_in_a_day\n",
        "\n",
        "#conver the timestamp to time of day and time of year x and y components\n",
        "df['Day y'] = np.sin(timestamp_seconds * (2 * np.pi / seconds_in_a_day))\n",
        "df['Day x'] = np.cos(timestamp_seconds * (2 * np.pi / seconds_in_a_day))\n",
        "df['Year y'] = np.sin(timestamp_seconds * (2 * np.pi / seconds_in_a_year))\n",
        "df['Year x'] = np.cos(timestamp_seconds * (2 * np.pi / seconds_in_a_year))\n",
        "\n",
        "#let's look at the data again\n",
        "df.describe().transpose()"
      ],
      "execution_count": null,
      "outputs": [
        {
          "output_type": "execute_result",
          "data": {
            "text/html": [
              "<div>\n",
              "<style scoped>\n",
              "    .dataframe tbody tr th:only-of-type {\n",
              "        vertical-align: middle;\n",
              "    }\n",
              "\n",
              "    .dataframe tbody tr th {\n",
              "        vertical-align: top;\n",
              "    }\n",
              "\n",
              "    .dataframe thead th {\n",
              "        text-align: right;\n",
              "    }\n",
              "</style>\n",
              "<table border=\"1\" class=\"dataframe\">\n",
              "  <thead>\n",
              "    <tr style=\"text-align: right;\">\n",
              "      <th></th>\n",
              "      <th>count</th>\n",
              "      <th>mean</th>\n",
              "      <th>std</th>\n",
              "      <th>min</th>\n",
              "      <th>25%</th>\n",
              "      <th>50%</th>\n",
              "      <th>75%</th>\n",
              "      <th>max</th>\n",
              "    </tr>\n",
              "  </thead>\n",
              "  <tbody>\n",
              "    <tr>\n",
              "      <th>p (mbar)</th>\n",
              "      <td>70091.0</td>\n",
              "      <td>989.212842</td>\n",
              "      <td>8.358886</td>\n",
              "      <td>913.600000</td>\n",
              "      <td>984.200000</td>\n",
              "      <td>9.895700e+02</td>\n",
              "      <td>994.720000</td>\n",
              "      <td>1015.290000</td>\n",
              "    </tr>\n",
              "    <tr>\n",
              "      <th>T (degC)</th>\n",
              "      <td>70091.0</td>\n",
              "      <td>9.450482</td>\n",
              "      <td>8.423384</td>\n",
              "      <td>-22.760000</td>\n",
              "      <td>3.350000</td>\n",
              "      <td>9.410000e+00</td>\n",
              "      <td>15.480000</td>\n",
              "      <td>37.280000</td>\n",
              "    </tr>\n",
              "    <tr>\n",
              "      <th>Tpot (K)</th>\n",
              "      <td>70091.0</td>\n",
              "      <td>283.493086</td>\n",
              "      <td>8.504424</td>\n",
              "      <td>250.850000</td>\n",
              "      <td>277.440000</td>\n",
              "      <td>2.834600e+02</td>\n",
              "      <td>289.530000</td>\n",
              "      <td>311.210000</td>\n",
              "    </tr>\n",
              "    <tr>\n",
              "      <th>Tdew (degC)</th>\n",
              "      <td>70091.0</td>\n",
              "      <td>4.956471</td>\n",
              "      <td>6.730081</td>\n",
              "      <td>-24.800000</td>\n",
              "      <td>0.240000</td>\n",
              "      <td>5.210000e+00</td>\n",
              "      <td>10.080000</td>\n",
              "      <td>23.060000</td>\n",
              "    </tr>\n",
              "    <tr>\n",
              "      <th>rh (%)</th>\n",
              "      <td>70091.0</td>\n",
              "      <td>76.009788</td>\n",
              "      <td>16.474920</td>\n",
              "      <td>13.880000</td>\n",
              "      <td>65.210000</td>\n",
              "      <td>7.930000e+01</td>\n",
              "      <td>89.400000</td>\n",
              "      <td>100.000000</td>\n",
              "    </tr>\n",
              "    <tr>\n",
              "      <th>VPmax (mbar)</th>\n",
              "      <td>70091.0</td>\n",
              "      <td>13.576576</td>\n",
              "      <td>7.739883</td>\n",
              "      <td>0.970000</td>\n",
              "      <td>7.770000</td>\n",
              "      <td>1.182000e+01</td>\n",
              "      <td>17.610000</td>\n",
              "      <td>63.770000</td>\n",
              "    </tr>\n",
              "    <tr>\n",
              "      <th>VPact (mbar)</th>\n",
              "      <td>70091.0</td>\n",
              "      <td>9.533968</td>\n",
              "      <td>4.183658</td>\n",
              "      <td>0.810000</td>\n",
              "      <td>6.220000</td>\n",
              "      <td>8.860000e+00</td>\n",
              "      <td>12.360000</td>\n",
              "      <td>28.250000</td>\n",
              "    </tr>\n",
              "    <tr>\n",
              "      <th>VPdef (mbar)</th>\n",
              "      <td>70091.0</td>\n",
              "      <td>4.042536</td>\n",
              "      <td>4.898549</td>\n",
              "      <td>0.000000</td>\n",
              "      <td>0.870000</td>\n",
              "      <td>2.190000e+00</td>\n",
              "      <td>5.300000</td>\n",
              "      <td>46.010000</td>\n",
              "    </tr>\n",
              "    <tr>\n",
              "      <th>sh (g/kg)</th>\n",
              "      <td>70091.0</td>\n",
              "      <td>6.022560</td>\n",
              "      <td>2.655812</td>\n",
              "      <td>0.510000</td>\n",
              "      <td>3.920000</td>\n",
              "      <td>5.590000e+00</td>\n",
              "      <td>7.800000</td>\n",
              "      <td>18.070000</td>\n",
              "    </tr>\n",
              "    <tr>\n",
              "      <th>H2OC (mmol/mol)</th>\n",
              "      <td>70091.0</td>\n",
              "      <td>9.640437</td>\n",
              "      <td>4.234862</td>\n",
              "      <td>0.810000</td>\n",
              "      <td>6.290000</td>\n",
              "      <td>8.960000e+00</td>\n",
              "      <td>12.490000</td>\n",
              "      <td>28.740000</td>\n",
              "    </tr>\n",
              "    <tr>\n",
              "      <th>rho (g/m**3)</th>\n",
              "      <td>70091.0</td>\n",
              "      <td>1216.061232</td>\n",
              "      <td>39.974263</td>\n",
              "      <td>1059.450000</td>\n",
              "      <td>1187.470000</td>\n",
              "      <td>1.213800e+03</td>\n",
              "      <td>1242.765000</td>\n",
              "      <td>1393.540000</td>\n",
              "    </tr>\n",
              "    <tr>\n",
              "      <th>Wx</th>\n",
              "      <td>70091.0</td>\n",
              "      <td>-0.627813</td>\n",
              "      <td>1.987440</td>\n",
              "      <td>-11.305514</td>\n",
              "      <td>-1.470727</td>\n",
              "      <td>-6.331423e-01</td>\n",
              "      <td>0.299975</td>\n",
              "      <td>8.244699</td>\n",
              "    </tr>\n",
              "    <tr>\n",
              "      <th>Wy</th>\n",
              "      <td>70091.0</td>\n",
              "      <td>-0.407068</td>\n",
              "      <td>1.552621</td>\n",
              "      <td>-8.274385</td>\n",
              "      <td>-1.364699</td>\n",
              "      <td>-2.934675e-01</td>\n",
              "      <td>0.450077</td>\n",
              "      <td>7.733831</td>\n",
              "    </tr>\n",
              "    <tr>\n",
              "      <th>max Wx</th>\n",
              "      <td>70091.0</td>\n",
              "      <td>-1.018681</td>\n",
              "      <td>3.095279</td>\n",
              "      <td>-19.641473</td>\n",
              "      <td>-2.469210</td>\n",
              "      <td>-1.117029e+00</td>\n",
              "      <td>0.627619</td>\n",
              "      <td>11.913133</td>\n",
              "    </tr>\n",
              "    <tr>\n",
              "      <th>max Wy</th>\n",
              "      <td>70091.0</td>\n",
              "      <td>-0.733589</td>\n",
              "      <td>2.611890</td>\n",
              "      <td>-14.883367</td>\n",
              "      <td>-2.322709</td>\n",
              "      <td>-5.270212e-01</td>\n",
              "      <td>0.822895</td>\n",
              "      <td>14.302308</td>\n",
              "    </tr>\n",
              "    <tr>\n",
              "      <th>Day y</th>\n",
              "      <td>70091.0</td>\n",
              "      <td>-0.000061</td>\n",
              "      <td>0.707099</td>\n",
              "      <td>-1.000000</td>\n",
              "      <td>-0.707107</td>\n",
              "      <td>1.321740e-14</td>\n",
              "      <td>0.707107</td>\n",
              "      <td>1.000000</td>\n",
              "    </tr>\n",
              "    <tr>\n",
              "      <th>Day x</th>\n",
              "      <td>70091.0</td>\n",
              "      <td>-0.000143</td>\n",
              "      <td>0.707124</td>\n",
              "      <td>-1.000000</td>\n",
              "      <td>-0.707107</td>\n",
              "      <td>-9.732065e-15</td>\n",
              "      <td>0.707107</td>\n",
              "      <td>1.000000</td>\n",
              "    </tr>\n",
              "    <tr>\n",
              "      <th>Year y</th>\n",
              "      <td>70091.0</td>\n",
              "      <td>0.001614</td>\n",
              "      <td>0.706813</td>\n",
              "      <td>-1.000000</td>\n",
              "      <td>-0.704504</td>\n",
              "      <td>3.316307e-03</td>\n",
              "      <td>0.708301</td>\n",
              "      <td>1.000000</td>\n",
              "    </tr>\n",
              "    <tr>\n",
              "      <th>Year x</th>\n",
              "      <td>70091.0</td>\n",
              "      <td>-0.000672</td>\n",
              "      <td>0.707408</td>\n",
              "      <td>-1.000000</td>\n",
              "      <td>-0.708115</td>\n",
              "      <td>-1.121764e-03</td>\n",
              "      <td>0.707423</td>\n",
              "      <td>1.000000</td>\n",
              "    </tr>\n",
              "  </tbody>\n",
              "</table>\n",
              "</div>"
            ],
            "text/plain": [
              "                   count         mean  ...          75%          max\n",
              "p (mbar)         70091.0   989.212842  ...   994.720000  1015.290000\n",
              "T (degC)         70091.0     9.450482  ...    15.480000    37.280000\n",
              "Tpot (K)         70091.0   283.493086  ...   289.530000   311.210000\n",
              "Tdew (degC)      70091.0     4.956471  ...    10.080000    23.060000\n",
              "rh (%)           70091.0    76.009788  ...    89.400000   100.000000\n",
              "VPmax (mbar)     70091.0    13.576576  ...    17.610000    63.770000\n",
              "VPact (mbar)     70091.0     9.533968  ...    12.360000    28.250000\n",
              "VPdef (mbar)     70091.0     4.042536  ...     5.300000    46.010000\n",
              "sh (g/kg)        70091.0     6.022560  ...     7.800000    18.070000\n",
              "H2OC (mmol/mol)  70091.0     9.640437  ...    12.490000    28.740000\n",
              "rho (g/m**3)     70091.0  1216.061232  ...  1242.765000  1393.540000\n",
              "Wx               70091.0    -0.627813  ...     0.299975     8.244699\n",
              "Wy               70091.0    -0.407068  ...     0.450077     7.733831\n",
              "max Wx           70091.0    -1.018681  ...     0.627619    11.913133\n",
              "max Wy           70091.0    -0.733589  ...     0.822895    14.302308\n",
              "Day y            70091.0    -0.000061  ...     0.707107     1.000000\n",
              "Day x            70091.0    -0.000143  ...     0.707107     1.000000\n",
              "Year y           70091.0     0.001614  ...     0.708301     1.000000\n",
              "Year x           70091.0    -0.000672  ...     0.707423     1.000000\n",
              "\n",
              "[19 rows x 8 columns]"
            ]
          },
          "metadata": {
            "tags": []
          },
          "execution_count": 7
        }
      ]
    },
    {
      "cell_type": "markdown",
      "metadata": {
        "id": "xLSk6iTyR7-2"
      },
      "source": [
        "### Split and Normalize\n",
        "Let's split and normalize the data. \n",
        "\n",
        "When splitting time series data, we should maintain the order of the sequence. this is typically done by taking first n records as trianing, the next m records as validation and the last k records for testing. \n",
        "\n",
        "Splitting this way does not distort the sequential order in the samples and ensures that the validation/test results are more realistic, being evaluated on data collected afte[link text](https://)r the model was trained.\n",
        "\n",
        "let's ake the first 70% of data for training, the next 20% samples for validation, and the last 10% samples for testing."
      ]
    },
    {
      "cell_type": "code",
      "metadata": {
        "id": "4Fpa0QuJUDkB",
        "colab": {
          "base_uri": "https://localhost:8080/"
        },
        "outputId": "7d7f085c-704a-48bb-a967-c857f7d6e86a"
      },
      "source": [
        "#get the number of samples\n",
        "n = len(df)\n",
        "\n",
        "# use,  the first 70% of samples for training\n",
        "train = df[0:int(n*0.7)]\n",
        "\n",
        "#use the next 20% of samples for testing\n",
        "val = df[int(n*0.7):int(n*0.9)]\n",
        "\n",
        "#use the last 10% of samples for testing\n",
        "test = df[int(n*0.9):]\n",
        "\n",
        "print(\"train shape\", train.shape)\n",
        "print(\"validation shape\", val.shape)\n",
        "print(\"test shape\", test.shape)"
      ],
      "execution_count": null,
      "outputs": [
        {
          "output_type": "stream",
          "text": [
            "train shape (49063, 19)\n",
            "validation shape (14018, 19)\n",
            "test shape (7010, 19)\n"
          ],
          "name": "stdout"
        }
      ]
    },
    {
      "cell_type": "markdown",
      "metadata": {
        "id": "MdLBnDUPUvjO"
      },
      "source": [
        "As always, we need to scale the features before training a neural network model. Note that the validation and test sets are normalized based on the statistics (mean and std) computed from the training data"
      ]
    },
    {
      "cell_type": "code",
      "metadata": {
        "id": "z95DzdmiVN8w"
      },
      "source": [
        "train_mean = train.mean()\n",
        "train_std = train.std()\n",
        "\n",
        "train_df = (train - train_mean) / train_std\n",
        "val_df = (val - train_mean) / train_std\n",
        "test_df = (test - train_mean) / train_std"
      ],
      "execution_count": null,
      "outputs": []
    },
    {
      "cell_type": "markdown",
      "metadata": {
        "id": "Wmz0EX-Voxew"
      },
      "source": [
        "### Data Windowing: Preparing Data for Supervised Learning\n",
        "In a time series prediction data, we typically want to make a set of predictions based on a window of consecutive samples in the data.  The main feature of the window are:\n",
        "* The width (number of time steps) of the input and label windows\n",
        "* The time offset between them.\n",
        "* Which features are used as inputs, labels, or both.\n",
        "For example, to make a single prediction 24 time steps into the future, given 24 time steps of history we might define a window like this:\n",
        "\n",
        "\n",
        "![window](https://www.tensorflow.org/tutorials/structured_data/images/raw_window_24h.png)\n",
        "\n",
        "\n",
        "For the temprature prediction problem, we want to predict the temprature 24 hours in the future. Suppose that the sample at time step $t_0$  (the first row in the data) is $s_0$ and we have 49063 hourly samples in our training data. We can convert this problem to a supervised learning problem by creating windows/data samples of the following form:\n",
        "\n",
        "$input= (s_0 , s_1, ...,s_{24})$    $output=t_{48}$  where $t_{48}$ is the temprature at time step 48 (that is the temprature column in row 48 of the data)\n",
        "The next input/output pairs would be:\n",
        "$input=(s_1,s_2,...,s_{25})$, $output=t_{49}$\n",
        "\n",
        "$input=(s_2,s_3,...,s_{26})$, $output=t_{50}$\n",
        "\n",
        "and so on until\n",
        "\n",
        "$input=(s_{49015}, s_{49016},....,s_{49039}$, output=t_{49063}\n",
        "\n",
        "As you can see we slide the window to the right by one row to create the next input/output pairs.\n",
        "\n",
        "Let's  define a simple python generator, we call it <code>windowGenerator</code>, that takes the following parameters and creates batches of input/output pairs in the above form. We can then feed these batches as input to our neural network models.\n",
        "\n",
        "* <code> data</code>: An array of sequential data where rows are consecutive data points and columns are features.\n",
        "* <code>target</code> An array of consecutive target values corresponding to the data. It must have the same length as data.\n",
        "* <code>lookback</code>: the number of past observations that we want to use to predict the target, that is the width of the window\n",
        "*<code> offset </code>: the number of time steps in the future to predit the target.\n",
        "*<code>batch_size</code> the number of training examples we want to have in each mini-batch of SGD. Each training example is a window of the form explained above.\n",
        "\n",
        "The number of windows/samples generated is equal to <code>data.shape[0]-lookback-offset</code>\n",
        "\n"
      ]
    },
    {
      "cell_type": "code",
      "metadata": {
        "id": "EC3KfhWXJT5F"
      },
      "source": [
        "def windowGenerator(data, target, lookback, offset,batch_size=16):\n",
        "  min_index=0\n",
        "  max_index = data.shape[0]-offset\n",
        "  i = min_index + lookback\n",
        "  while 1:\n",
        "    if i + batch_size >= max_index:\n",
        "      i = min_index + lookback\n",
        "    rows = np.arange(i, min(i + batch_size, max_index))\n",
        "    i += len(rows)\n",
        "    samples = np.zeros((len(rows), lookback, data.shape[-1]))\n",
        "    targets = np.zeros((len(rows),))\n",
        "    for j, row in enumerate(rows):\n",
        "      indices = range(rows[j] - lookback, rows[j])\n",
        "      samples[j] = data[indices]\n",
        "      targets[j] = target[rows[j] + offset]\n",
        "\n",
        "    yield samples, targets\n"
      ],
      "execution_count": null,
      "outputs": []
    },
    {
      "cell_type": "markdown",
      "metadata": {
        "id": "Ab1-isOKaR8y"
      },
      "source": [
        "I find codes for generating windows of this a bit confusing so if you have a hard time understanding the above code, you are not alone :) but to see how this windowGenerator function works, let's try it on a simple data consisting of two variables measured in 9 consecutive time steps.\n",
        "Suppose that the goal is to predict the second variable/column two time steps in the future (offset=2) by using the past three observations (lookback=3)\n"
      ]
    },
    {
      "cell_type": "code",
      "metadata": {
        "id": "El3YsjNvaO2u",
        "colab": {
          "base_uri": "https://localhost:8080/"
        },
        "outputId": "c78e3090-c82c-47d6-ae0b-b1501c219cc0"
      },
      "source": [
        "example_df=np.array([[1,0.1],[2,0.2], [3,0.3], [4,0.4], [5,0.5], [6,0.6], [7,0.7],[8,0.8],[9,0.9],[10,0.7]])\n",
        "lookback=3\n",
        "BATCH_SIZE=2\n",
        "offset=2\n",
        "windows = windowGenerator(data=example_df, target=example_df[:,1], offset=offset, lookback=lookback,batch_size=BATCH_SIZE)\n",
        "\n",
        "#The number of total batches are equal to the number of (training examples - lookback-offset)/batch_size \n",
        "no_batches=int((example_df.shape[0]-lookback-offset)/BATCH_SIZE)\n",
        "\n",
        "#print the batches\n",
        "for i in range(no_batches):\n",
        "  #get the next batch from the windowGenerator\n",
        "  input,output=next(windows)\n",
        "  print(\"{}th batch: \\ninput is:\\n{}\\n and \\ntarget is:\\n{}\\n\".format(i+1, input, output))\n",
        "\n",
        "\n"
      ],
      "execution_count": null,
      "outputs": [
        {
          "output_type": "stream",
          "text": [
            "1th batch: \n",
            "input is:\n",
            "[[[1.  0.1]\n",
            "  [2.  0.2]\n",
            "  [3.  0.3]]\n",
            "\n",
            " [[2.  0.2]\n",
            "  [3.  0.3]\n",
            "  [4.  0.4]]]\n",
            " and \n",
            "target is:\n",
            "[0.6 0.7]\n",
            "\n",
            "2th batch: \n",
            "input is:\n",
            "[[[3.  0.3]\n",
            "  [4.  0.4]\n",
            "  [5.  0.5]]\n",
            "\n",
            " [[4.  0.4]\n",
            "  [5.  0.5]\n",
            "  [6.  0.6]]]\n",
            " and \n",
            "target is:\n",
            "[0.8 0.9]\n",
            "\n"
          ],
          "name": "stdout"
        }
      ]
    },
    {
      "cell_type": "markdown",
      "metadata": {
        "id": "CnDYDAksmSL9"
      },
      "source": [
        "As you can see each batch generated by windowGenerator function contains two  windows/samples where each sample is of dimension (lookback=3, number of features=2). \n",
        "\n",
        "Now that we know how the windowGenerator function works, let's apply it to the temprature data to create batches of input output pairs to predict the temprature 24 hours in the future (offset=24) based on the past 24 hour observations (lookbach=24)"
      ]
    },
    {
      "cell_type": "code",
      "metadata": {
        "id": "4zfrboqz4Wx7"
      },
      "source": [
        "BATCH_SIZE=32\n",
        "LOOKBACK=24\n",
        "OFFSET=24\n",
        "train_gen = windowGenerator(data=train_df.to_numpy(), target=train_df['T (degC)'].to_numpy(),lookback=LOOKBACK, offset=OFFSET,batch_size=BATCH_SIZE)\n",
        "val_gen = windowGenerator(data=val_df.to_numpy(),target=val_df['T (degC)'].to_numpy(),lookback=LOOKBACK, offset=OFFSET,batch_size=BATCH_SIZE)\n",
        "test_gen = windowGenerator(data=test_df.to_numpy(), target=test_df['T (degC)'].to_numpy(),lookback=LOOKBACK, offset=OFFSET,batch_size=BATCH_SIZE)\n",
        "\n",
        "\n",
        "\n"
      ],
      "execution_count": null,
      "outputs": []
    },
    {
      "cell_type": "markdown",
      "metadata": {
        "id": "6Tg1VfB381io"
      },
      "source": [
        "## A common-sense, None-machine learning baseline"
      ]
    },
    {
      "cell_type": "markdown",
      "metadata": {
        "id": "Uu0dnYh48xhF"
      },
      "source": [
        "Before you start using black-box deep-learning models to solve the temperatureprediction\n",
        "problem, let’s try a simple, common-sense approach. It will serve as a sanity\n",
        "check, and it will establish a baseline that you’ll have to beat in order to demonstrate\n",
        "the usefulness of more-advanced machine-learning models. Such common-sense baselines\n",
        "can be useful when you’re approaching a new problem for which there is no\n",
        "known solution (yet). A classic example is that of unbalanced classification tasks,\n",
        "where some classes are much more common than others. If your dataset contains 90%\n",
        "instances of class A and 10% instances of class B, then a common-sense approach to\n",
        "the classification task is to always predict “A” when presented with a new sample. Such\n",
        "a classifier is 90% accurate overall, and any learning-based approach should therefore\n",
        "beat this 90% score in order to demonstrate usefulness. Sometimes, such elementary\n",
        "baselines can prove surprisingly hard to beat.\n",
        "In this case, the temperature timeseries can safely be assumed to be continuous\n",
        "(the temperatures tomorrow are likely to be close to the temperatures today) as well\n",
        "as periodical with a daily period. Thus a common-sense approach is to always predict\n",
        "that the temperature 24 hours from now will be equal to the temperature right now.\n",
        "Let’s evaluate this approach, using the mean absolute error (MAE) metric:"
      ]
    },
    {
      "cell_type": "code",
      "metadata": {
        "id": "ShZi2ZCv8v_O",
        "colab": {
          "base_uri": "https://localhost:8080/"
        },
        "outputId": "9e6da6f3-c364-42db-87d8-58ff93ff1368"
      },
      "source": [
        "def evaluate_naive_method():\n",
        "  #an array to store mean absolute value per batch\n",
        "  batch_maes = []\n",
        "  for step in range(int((val_df.shape[0]-LOOKBACK-OFFSET)/BATCH_SIZE)):\n",
        "    #take the next batch from validation generator\n",
        "    inputs, targets = next(val_gen)\n",
        "\n",
        "    #set the prediction to the last temprature in the input window. The second index (-1 )means the last time step in the window and the last index (1) means the second column/feature in the input (which is the temprature column)\n",
        "    preds = inputs[:, -1, 1]\n",
        "\n",
        "    #compute the mae for the current batch\n",
        "    mae = np.mean(np.abs(preds - targets))\n",
        "\n",
        "    #store mae in batch_maes\n",
        "    batch_maes.append(mae)\n",
        "  #print the mean of mae over batches\n",
        "  return np.mean(batch_maes)\n",
        "\n",
        "#call the method\n",
        "mae_baseline=evaluate_naive_method()\n",
        "print(mae_baseline)"
      ],
      "execution_count": null,
      "outputs": [
        {
          "output_type": "stream",
          "text": [
            "0.31841049455348175\n"
          ],
          "name": "stdout"
        }
      ]
    },
    {
      "cell_type": "markdown",
      "metadata": {
        "id": "jnfHDQ30w66c"
      },
      "source": [
        "This yields an MAE of 0.32. Because the temperature data has been normalized to be centered on 0 and have a standard deviation of 1, this number isn’t immediately interpretable. To get the MAE in the original temprature scale we need to multiply it by the std of temprature in the original validation data as follows\n"
      ]
    },
    {
      "cell_type": "code",
      "metadata": {
        "id": "RaWWLLVdx5ym",
        "colab": {
          "base_uri": "https://localhost:8080/"
        },
        "outputId": "eb821dce-0dff-476e-cd7e-8cfc0632d4ed"
      },
      "source": [
        "val['T (degC)'].std(axis=0)*mae_baseline"
      ],
      "execution_count": null,
      "outputs": [
        {
          "output_type": "execute_result",
          "data": {
            "text/plain": [
              "2.435033459602708"
            ]
          },
          "metadata": {
            "tags": []
          },
          "execution_count": 21
        }
      ]
    },
    {
      "cell_type": "markdown",
      "metadata": {
        "id": "_O5CLFoj0Ikc"
      },
      "source": [
        "So the baseline model gives us an avereage absolute error of about $2.43^{\\circ}$ degree celcius.  That’s a fairly large average absolute error. Now the game is to use your knowledge of deep learning to do better."
      ]
    },
    {
      "cell_type": "markdown",
      "metadata": {
        "id": "ddbL8XC70mz1"
      },
      "source": [
        "## A Small Fully Connected Network\n",
        "In the same way that it’s useful to establish a common-sense baseline before trying machine-learning approaches, it’s useful to try simple, cheap machine-learning models (such as a small fully connected network) before looking into complicated and computationally expensive models such as RNNs. This is the best way to make sure any further complexity you throw at the problem is legitimate and delivers real benefits.\n",
        "\n",
        "The following code segment creates a  fully connected model that starts by flattening the input data and then runs it through two Dense layers. The reason we need to flatten the input is because the windowGenerator creates batches of 3D arrays with dimension **[number of examples in the batch, lookback, features]** whereas a dense layer expects batches of 2D arrays with dimension **[number of examples, features]**. In essence the dense layer is blind to the sequential structure in the data and hence we have to flatten the temporal dimension. \n",
        "\n",
        "In contrast, a recurrent layer ( such as LSTM, GRU, etc.) utilizes the temporal dimension in the data and is not blind to sequential patterns.\n",
        "\n",
        " Note the lack of activation function on the last Dense layer, which is typical for a regression problem. Let's use mean absolute error, 'mae' as the loss.\n",
        "Because you evaluate on the exact same data and with the exact same metric you did with the common-sense approach, the results will be directly comparable."
      ]
    },
    {
      "cell_type": "code",
      "metadata": {
        "id": "vGk_rHv55P79",
        "colab": {
          "base_uri": "https://localhost:8080/"
        },
        "outputId": "67dd837d-995d-4284-812c-6b63710061ef"
      },
      "source": [
        "early_stopping = tf.keras.callbacks.EarlyStopping(monitor='val_loss', patience=5, min_delta=1e-3, restore_best_weights=True)\n",
        "\n",
        "model=keras.Sequential(\n",
        "    [\n",
        "        layers.Flatten(),\n",
        "        layers.Dense(32, activation=\"relu\"),\n",
        "        layers.Dense(1)\n",
        "    ])\n",
        "model.compile(optimizer='Adam', loss='mae')\n",
        "\n",
        "train_steps= int((train_df.shape[0]-LOOKBACK-OFFSET)/BATCH_SIZE)\n",
        "val_steps= int((val_df.shape[0]-LOOKBACK-OFFSET)/BATCH_SIZE)\n",
        "\n",
        "history = model.fit(train_gen, steps_per_epoch=train_steps, epochs=50, validation_data=val_gen, validation_steps=val_steps, callbacks=[early_stopping])\n",
        "print(model.summary())"
      ],
      "execution_count": null,
      "outputs": [
        {
          "output_type": "stream",
          "text": [
            "Epoch 1/50\n",
            "1531/1531 [==============================] - 5s 3ms/step - loss: 0.5343 - val_loss: 0.4190\n",
            "Epoch 2/50\n",
            "1531/1531 [==============================] - 5s 3ms/step - loss: 0.3364 - val_loss: 0.3299\n",
            "Epoch 3/50\n",
            "1531/1531 [==============================] - 5s 3ms/step - loss: 0.3087 - val_loss: 0.3245\n",
            "Epoch 4/50\n",
            "1531/1531 [==============================] - 5s 3ms/step - loss: 0.3028 - val_loss: 0.3179\n",
            "Epoch 5/50\n",
            "1531/1531 [==============================] - 5s 3ms/step - loss: 0.3021 - val_loss: 0.3159\n",
            "Epoch 6/50\n",
            "1531/1531 [==============================] - 5s 3ms/step - loss: 0.2999 - val_loss: 0.3086\n",
            "Epoch 7/50\n",
            "1531/1531 [==============================] - 5s 3ms/step - loss: 0.2964 - val_loss: 0.3036\n",
            "Epoch 8/50\n",
            "1531/1531 [==============================] - 5s 3ms/step - loss: 0.2959 - val_loss: 0.3032\n",
            "Epoch 9/50\n",
            "1531/1531 [==============================] - 5s 3ms/step - loss: 0.2939 - val_loss: 0.3063\n",
            "Epoch 10/50\n",
            "1531/1531 [==============================] - 5s 3ms/step - loss: 0.2941 - val_loss: 0.3027\n",
            "Epoch 11/50\n",
            "1531/1531 [==============================] - 5s 3ms/step - loss: 0.2929 - val_loss: 0.3020\n",
            "Epoch 12/50\n",
            "1531/1531 [==============================] - 5s 3ms/step - loss: 0.2927 - val_loss: 0.3034\n",
            "Epoch 13/50\n",
            "1531/1531 [==============================] - 5s 3ms/step - loss: 0.2912 - val_loss: 0.3110\n",
            "Epoch 14/50\n",
            "1531/1531 [==============================] - 5s 3ms/step - loss: 0.2900 - val_loss: 0.2991\n",
            "Epoch 15/50\n",
            "1531/1531 [==============================] - 5s 3ms/step - loss: 0.2920 - val_loss: 0.3004\n",
            "Epoch 16/50\n",
            "1531/1531 [==============================] - 5s 3ms/step - loss: 0.2907 - val_loss: 0.3077\n",
            "Epoch 17/50\n",
            "1531/1531 [==============================] - 5s 3ms/step - loss: 0.2901 - val_loss: 0.2963\n",
            "Epoch 18/50\n",
            "1531/1531 [==============================] - 5s 3ms/step - loss: 0.2901 - val_loss: 0.2925\n",
            "Epoch 19/50\n",
            "1531/1531 [==============================] - 5s 3ms/step - loss: 0.2894 - val_loss: 0.3015\n",
            "Epoch 20/50\n",
            "1531/1531 [==============================] - 5s 3ms/step - loss: 0.2885 - val_loss: 0.2983\n",
            "Epoch 21/50\n",
            "1531/1531 [==============================] - 5s 3ms/step - loss: 0.2884 - val_loss: 0.3005\n",
            "Epoch 22/50\n",
            "1531/1531 [==============================] - 5s 3ms/step - loss: 0.2883 - val_loss: 0.2888\n",
            "Epoch 23/50\n",
            "1531/1531 [==============================] - 5s 3ms/step - loss: 0.2861 - val_loss: 0.2890\n",
            "Epoch 24/50\n",
            "1531/1531 [==============================] - 5s 3ms/step - loss: 0.2871 - val_loss: 0.2967\n",
            "Epoch 25/50\n",
            "1531/1531 [==============================] - 5s 3ms/step - loss: 0.2880 - val_loss: 0.3058\n",
            "Epoch 26/50\n",
            "1531/1531 [==============================] - 5s 3ms/step - loss: 0.2861 - val_loss: 0.3007\n",
            "Epoch 27/50\n",
            "1531/1531 [==============================] - 5s 3ms/step - loss: 0.2857 - val_loss: 0.3029\n",
            "Model: \"sequential\"\n",
            "_________________________________________________________________\n",
            "Layer (type)                 Output Shape              Param #   \n",
            "=================================================================\n",
            "flatten (Flatten)            (None, None)              0         \n",
            "_________________________________________________________________\n",
            "dense (Dense)                (None, 32)                14624     \n",
            "_________________________________________________________________\n",
            "dense_1 (Dense)              (None, 1)                 33        \n",
            "=================================================================\n",
            "Total params: 14,657\n",
            "Trainable params: 14,657\n",
            "Non-trainable params: 0\n",
            "_________________________________________________________________\n",
            "None\n"
          ],
          "name": "stdout"
        }
      ]
    },
    {
      "cell_type": "markdown",
      "metadata": {
        "id": "0ydja0sgKNzq"
      },
      "source": [
        "Let's draw the learning curves."
      ]
    },
    {
      "cell_type": "code",
      "metadata": {
        "id": "yMdi14I4LpvX",
        "colab": {
          "base_uri": "https://localhost:8080/",
          "height": 281
        },
        "outputId": "f8dcefb0-cb51-4911-f9a0-9d04f5319f98"
      },
      "source": [
        "loss = history.history['loss']\n",
        "val_loss = history.history['val_loss']\n",
        "epochs = range(1, len(loss) + 1)\n",
        "plt.figure()\n",
        "plt.plot(epochs, loss, 'bo', label='Training loss')\n",
        "plt.plot(epochs, val_loss, 'b', label='Validation loss')\n",
        "plt.title('Training and validation loss')\n",
        "plt.legend()\n",
        "plt.show()"
      ],
      "execution_count": null,
      "outputs": [
        {
          "output_type": "display_data",
          "data": {
            "image/png": "[encoded data removed]",
            "text/plain": [
              "<Figure size 432x288 with 1 Axes>"
            ]
          },
          "metadata": {
            "tags": [],
            "needs_background": "light"
          }
        }
      ]
    },
    {
      "cell_type": "markdown",
      "metadata": {
        "id": "CrFEI5xpay_I"
      },
      "source": [
        "The fully connected baseline performs better than the commonsense model. The best validation MAE is around 0.288 which translates to $2.20^{\\circ}$ degree celcius\n"
      ]
    },
    {
      "cell_type": "code",
      "metadata": {
        "id": "7M-6Vsy0DRDY",
        "colab": {
          "base_uri": "https://localhost:8080/"
        },
        "outputId": "ae1cac6e-f303-402e-ba77-bd7ed3eee025"
      },
      "source": [
        "mae_fullyconnected=model.evaluate(val_gen, steps=val_steps)\n",
        "val['T (degC)'].std(axis=0)*mae_fullyconnected"
      ],
      "execution_count": null,
      "outputs": [
        {
          "output_type": "stream",
          "text": [
            "436/436 [==============================] - 1s 2ms/step - loss: 0.2888\n"
          ],
          "name": "stdout"
        },
        {
          "output_type": "execute_result",
          "data": {
            "text/plain": [
              "2.208720751702966"
            ]
          },
          "metadata": {
            "tags": []
          },
          "execution_count": 15
        }
      ]
    },
    {
      "cell_type": "markdown",
      "metadata": {
        "id": "Sz1NJ51-B_fF"
      },
      "source": [
        "## The first Recurrent Baseline\n",
        "We can increase model capacity by adding more layers until we overfit and then regularize but the performance gain for the fully connected network is likely going to be small. This is because, as explained in the lectures, fully connected networks don't have memory and are not optimized for sequence data. the fully connected layer first flattened the timeseries which removed the notion of time from the input data.\n",
        "\n",
        "Let’s instead look at the data as what it is: a sequence, where causality and order matter. You’ll try a recurrent-sequence processing model it should be the perfect fit for such sequence data, precisely because it exploits the temporal ordering of data points, unlike the first approach.\n",
        "\n",
        "In the following code segment, we replace the first Dense Layer with a GRU (Gated Recurrent Unit) layer. The flatten layer is no longer needed because GRU requires a batch of 3D arrays of dimenson **[number of examples, look back time steps,features]** \n",
        "\n"
      ]
    },
    {
      "cell_type": "code",
      "metadata": {
        "id": "__4BUd_CCbTp",
        "colab": {
          "base_uri": "https://localhost:8080/"
        },
        "outputId": "99e0aea5-ccef-4c30-ee90-959d5ccf69b4"
      },
      "source": [
        "\n",
        "model_recurrent=keras.Sequential(\n",
        "    [\n",
        "        layers.GRU(32),\n",
        "        layers.Dense(1)\n",
        "    ])\n",
        "model_recurrent.compile(optimizer='Adam', loss='mae')\n",
        "\n",
        "history = model_recurrent.fit(train_gen, steps_per_epoch=train_steps, epochs=50, validation_data=val_gen, validation_steps=val_steps, callbacks=[early_stopping])"
      ],
      "execution_count": null,
      "outputs": [
        {
          "output_type": "stream",
          "text": [
            "Epoch 1/50\n",
            "1531/1531 [==============================] - 7s 5ms/step - loss: 0.3161 - val_loss: 0.3319\n",
            "Epoch 2/50\n",
            "1531/1531 [==============================] - 7s 5ms/step - loss: 0.2887 - val_loss: 0.2962\n",
            "Epoch 3/50\n",
            "1531/1531 [==============================] - 7s 5ms/step - loss: 0.2827 - val_loss: 0.2857\n",
            "Epoch 4/50\n",
            "1531/1531 [==============================] - 7s 5ms/step - loss: 0.2792 - val_loss: 0.2825\n",
            "Epoch 5/50\n",
            "1531/1531 [==============================] - 7s 5ms/step - loss: 0.2767 - val_loss: 0.2810\n",
            "Epoch 6/50\n",
            "1531/1531 [==============================] - 7s 5ms/step - loss: 0.2744 - val_loss: 0.2809\n",
            "Epoch 7/50\n",
            "1531/1531 [==============================] - 7s 5ms/step - loss: 0.2725 - val_loss: 0.2796\n",
            "Epoch 8/50\n",
            "1531/1531 [==============================] - 7s 5ms/step - loss: 0.2708 - val_loss: 0.2793\n",
            "Epoch 9/50\n",
            "1531/1531 [==============================] - 7s 5ms/step - loss: 0.2691 - val_loss: 0.2792\n",
            "Epoch 10/50\n",
            "1531/1531 [==============================] - 7s 5ms/step - loss: 0.2674 - val_loss: 0.2806\n",
            "Epoch 11/50\n",
            "1531/1531 [==============================] - 7s 5ms/step - loss: 0.2658 - val_loss: 0.2821\n",
            "Epoch 12/50\n",
            "1531/1531 [==============================] - 7s 5ms/step - loss: 0.2642 - val_loss: 0.2814\n"
          ],
          "name": "stdout"
        }
      ]
    },
    {
      "cell_type": "code",
      "metadata": {
        "id": "MaeNZLlKJ5VT",
        "colab": {
          "base_uri": "https://localhost:8080/",
          "height": 281
        },
        "outputId": "0445b5ea-cab2-4eb7-8d52-b6af8718b2cb"
      },
      "source": [
        "loss = history.history['loss']\n",
        "val_loss = history.history['val_loss']\n",
        "epochs = range(1, len(loss) + 1)\n",
        "plt.figure()\n",
        "plt.plot(epochs, loss, 'bo', label='Training loss')\n",
        "plt.plot(epochs, val_loss, 'b', label='Validation loss')\n",
        "plt.title('Training and validation loss recurrent baseline')\n",
        "plt.legend()\n",
        "plt.show()"
      ],
      "execution_count": null,
      "outputs": [
        {
          "output_type": "display_data",
          "data": {
            "image/png": "[encoded data removed]",
            "text/plain": [
              "<Figure size 432x288 with 1 Axes>"
            ]
          },
          "metadata": {
            "tags": [],
            "needs_background": "light"
          }
        }
      ]
    },
    {
      "cell_type": "markdown",
      "metadata": {
        "id": "reLKr4w0Yu1A"
      },
      "source": [
        "The result is better than the fully connected network. The best validation MAE is 0.2796 which translates to about $2.13^{\\circ}$ .However, the model starts overfitting after the third epoch."
      ]
    },
    {
      "cell_type": "code",
      "metadata": {
        "id": "49OWEHqcZsVl",
        "colab": {
          "base_uri": "https://localhost:8080/"
        },
        "outputId": "29bb504a-3b09-408a-e865-3411123c5248"
      },
      "source": [
        "mae_recurreent_baseline=model_recurrent.evaluate(val_gen, steps=val_steps)\n",
        "val['T (degC)'].std(axis=0)*mae_recurreent_baseline"
      ],
      "execution_count": null,
      "outputs": [
        {
          "output_type": "stream",
          "text": [
            "436/436 [==============================] - 1s 3ms/step - loss: 0.2796\n"
          ],
          "name": "stdout"
        },
        {
          "output_type": "execute_result",
          "data": {
            "text/plain": [
              "2.1383074703337903"
            ]
          },
          "metadata": {
            "tags": []
          },
          "execution_count": 23
        }
      ]
    },
    {
      "cell_type": "markdown",
      "metadata": {
        "id": "jJNmzvPnfvaE"
      },
      "source": [
        "## Battling Overfitting\n",
        "We can add drop out and weight decay to help reduce overfitting. in pratice, it is best if you try one technique at a time to see which one causes your model to improve but for the sake of brevity I will try both in the following model. \n",
        "\n",
        "You are already familiar with dropout as a classic technique for fighting overfitting in dense layers. The standard dropout randomly drops some neurons in each layer by setting their outputs to zero. In a recurrent layer, the drop out can also be applied in the temporal direcion between time steps, that is, we can randomly drop the recurrent connections by setting the hidden states at some time steps to zero. This is known as *recurrent dropout*. \n",
        "\n",
        "It has long been known that applying dropout before a recurrent layer hinders learning rather than helping with regularization. In 2015, [Gal et. al. ](https://arxiv.org/abs/1512.05287) showed that the proper way to use dropout with a recurrent layer is to apply the same dropout mask ( that is the same patten of dropping neurons) in each time step. You can find more details about recurrent drop out in Gal's paper.\n",
        "\n",
        "Every recurrent layer in Keras has two dropout-related\n",
        "arguments: <code>dropout</code>, a float specifying the dropout rate for input units of the layer,and <code>recurrent_dropout</code>, specifying the dropout rate along the temporal dimension. Let’s add dropout and recurrent dropout to the GRU layer and see how doing so impacts overfitting.\n",
        "\n",
        "Recall from our regularization lectures that another technique we have in our toolbox for fighting against overfitting is weight decay. We apply the weight decay penalty to the input weights  via <code>kernel_regularizer</code> or we can apply it to the recurrent weights via <code>recurrent_kernel_regularizer</code>\n",
        "s.\n",
        "\n",
        "This model runs much slower compared to the previous model. This is because after adding the recurrent_dropout, the model no longer meets the criteria to run on CUDNN kernel which is GPU-accelerated library of primitives for deep neural networks (see [here](https://www.tensorflow.org/api_docs/python/tf/keras/layers/GRU) for details)\n",
        "\n"
      ]
    },
    {
      "cell_type": "code",
      "metadata": {
        "id": "6iyBOip_mBHI",
        "colab": {
          "base_uri": "https://localhost:8080/"
        },
        "outputId": "2e87e1e5-1c31-48d2-b81c-650b5f7927c5"
      },
      "source": [
        "\n",
        "model_regularized=keras.Sequential(\n",
        "    [\n",
        "        layers.GRU(32, dropout=0.2, recurrent_dropout=0.2, kernel_regularizer=regularizers.l2(0.001), recurrent_regularizer=regularizers.l2(0.001)),\n",
        "        layers.Dense(1)\n",
        "    ])\n",
        "model_regularized.compile(optimizer='Adam', loss='mae')\n",
        "\n",
        "\n",
        "history = model_regularized.fit(train_gen, steps_per_epoch=train_steps, epochs=20, validation_data=val_gen, validation_steps=val_steps, callbacks=[early_stopping])"
      ],
      "execution_count": null,
      "outputs": [
        {
          "output_type": "stream",
          "text": [
            "WARNING:tensorflow:Layer gru_6 will not use cuDNN kernel since it doesn't meet the cuDNN kernel criteria. It will use generic GPU kernel as fallback when running on GPU\n",
            "Epoch 1/20\n",
            "1531/1531 [==============================] - 125s 82ms/step - loss: 0.3660 - val_loss: 0.3404\n",
            "Epoch 2/20\n",
            "1531/1531 [==============================] - 123s 81ms/step - loss: 0.3244 - val_loss: 0.3166\n",
            "Epoch 3/20\n",
            "1531/1531 [==============================] - 123s 81ms/step - loss: 0.3141 - val_loss: 0.3084\n",
            "Epoch 4/20\n",
            "1531/1531 [==============================] - 124s 81ms/step - loss: 0.3091 - val_loss: 0.3081\n",
            "Epoch 5/20\n",
            "1531/1531 [==============================] - 124s 81ms/step - loss: 0.3066 - val_loss: 0.3055\n",
            "Epoch 6/20\n",
            "1531/1531 [==============================] - 124s 81ms/step - loss: 0.3045 - val_loss: 0.3084\n",
            "Epoch 7/20\n",
            "1531/1531 [==============================] - 121s 79ms/step - loss: 0.3025 - val_loss: 0.3059\n",
            "Epoch 8/20\n",
            "1531/1531 [==============================] - 118s 77ms/step - loss: 0.3014 - val_loss: 0.3028\n",
            "Epoch 9/20\n",
            "1531/1531 [==============================] - 118s 77ms/step - loss: 0.3007 - val_loss: 0.3013\n",
            "Epoch 10/20\n",
            "1531/1531 [==============================] - 118s 77ms/step - loss: 0.3001 - val_loss: 0.3021\n",
            "Epoch 11/20\n",
            "1531/1531 [==============================] - 117s 77ms/step - loss: 0.2989 - val_loss: 0.3014\n",
            "Epoch 12/20\n",
            "1531/1531 [==============================] - 117s 76ms/step - loss: 0.2985 - val_loss: 0.2980\n",
            "Epoch 13/20\n",
            "1531/1531 [==============================] - 117s 77ms/step - loss: 0.2980 - val_loss: 0.2978\n",
            "Epoch 14/20\n",
            "1531/1531 [==============================] - 117s 77ms/step - loss: 0.2975 - val_loss: 0.2952\n",
            "Epoch 15/20\n",
            "1531/1531 [==============================] - 118s 77ms/step - loss: 0.2973 - val_loss: 0.2995\n",
            "Epoch 16/20\n",
            "1531/1531 [==============================] - 127s 83ms/step - loss: 0.2971 - val_loss: 0.2995\n",
            "Epoch 17/20\n",
            "1531/1531 [==============================] - 127s 83ms/step - loss: 0.2966 - val_loss: 0.2949\n",
            "Epoch 18/20\n",
            "1531/1531 [==============================] - 126s 82ms/step - loss: 0.2961 - val_loss: 0.2951\n",
            "Epoch 19/20\n",
            "1531/1531 [==============================] - 126s 82ms/step - loss: 0.2960 - val_loss: 0.2963\n"
          ],
          "name": "stdout"
        }
      ]
    },
    {
      "cell_type": "code",
      "metadata": {
        "id": "KVBNBJHXyyt3",
        "colab": {
          "base_uri": "https://localhost:8080/",
          "height": 281
        },
        "outputId": "760b06c7-900b-4d3a-ba40-bec5de64528b"
      },
      "source": [
        "loss = history.history['loss']\n",
        "val_loss = history.history['val_loss']\n",
        "epochs = range(1, len(loss) + 1)\n",
        "plt.figure()\n",
        "plt.plot(epochs, loss, 'bo', label='Training loss')\n",
        "plt.plot(epochs, val_loss, 'b', label='Validation loss')\n",
        "plt.title('Training and validation losses for the regularized model')\n",
        "plt.legend()\n",
        "plt.show()"
      ],
      "execution_count": null,
      "outputs": [
        {
          "output_type": "display_data",
          "data": {
            "image/png": "[encoded data removed]",
            "text/plain": [
              "<Figure size 432x288 with 1 Axes>"
            ]
          },
          "metadata": {
            "tags": [],
            "needs_background": "light"
          }
        }
      ]
    },
    {
      "cell_type": "markdown",
      "metadata": {
        "id": "QuWyAjDMxous"
      },
      "source": [
        "The learning curves show that the model no longer overfits. However, its validation performance is worse than the unregularized model. \n",
        "\n",
        "models that use dropout regularization typically take longer to coverge so Let's resume the training for a few more epochs. \n",
        "\n",
        "It is a common practice to stop the training once the learning slows down and decrease the learning rate by an order of magnitude before resuming the training again.\n",
        "\n",
        "To do this, you can recompile the model with the reduced learning rate and call mode.fit to resume the training. The parameter <code>initial_epoch=20</code> means to resume the training after the 20th epoch (the last epoch after which the training has been stopped)"
      ]
    },
    {
      "cell_type": "code",
      "metadata": {
        "id": "Yv0D1chv_OVq",
        "colab": {
          "base_uri": "https://localhost:8080/"
        },
        "outputId": "c7a995db-8f5f-42ee-ac6f-b136f95b6f71"
      },
      "source": [
        "model_regularized.compile(optimizer=Adam(learning_rate=1e-4), loss='mae')\n",
        "\n",
        "history = model_regularized.fit(train_gen, steps_per_epoch=train_steps, epochs=40, initial_epoch=20,\n",
        "                                validation_data=val_gen, validation_steps=val_steps)"
      ],
      "execution_count": null,
      "outputs": [
        {
          "output_type": "stream",
          "text": [
            "Epoch 21/40\n",
            "1531/1531 [==============================] - 123s 80ms/step - loss: 0.2882 - val_loss: 0.2869\n",
            "Epoch 22/40\n",
            "1531/1531 [==============================] - 122s 80ms/step - loss: 0.2877 - val_loss: 0.2863\n",
            "Epoch 23/40\n",
            "1531/1531 [==============================] - 122s 80ms/step - loss: 0.2867 - val_loss: 0.2865\n",
            "Epoch 24/40\n",
            "1531/1531 [==============================] - 124s 81ms/step - loss: 0.2870 - val_loss: 0.2861\n",
            "Epoch 25/40\n",
            "1531/1531 [==============================] - 122s 79ms/step - loss: 0.2866 - val_loss: 0.2860\n",
            "Epoch 26/40\n",
            "1531/1531 [==============================] - 122s 80ms/step - loss: 0.2870 - val_loss: 0.2853\n",
            "Epoch 27/40\n",
            "1531/1531 [==============================] - 121s 79ms/step - loss: 0.2862 - val_loss: 0.2859\n",
            "Epoch 28/40\n",
            "1531/1531 [==============================] - 121s 79ms/step - loss: 0.2864 - val_loss: 0.2856\n",
            "Epoch 29/40\n",
            "1531/1531 [==============================] - 122s 80ms/step - loss: 0.2858 - val_loss: 0.2857\n",
            "Epoch 30/40\n",
            "1531/1531 [==============================] - 122s 80ms/step - loss: 0.2856 - val_loss: 0.2853\n",
            "Epoch 31/40\n",
            "1531/1531 [==============================] - 122s 80ms/step - loss: 0.2852 - val_loss: 0.2846\n",
            "Epoch 32/40\n",
            "1531/1531 [==============================] - 123s 80ms/step - loss: 0.2853 - val_loss: 0.2848\n",
            "Epoch 33/40\n",
            "1531/1531 [==============================] - 122s 79ms/step - loss: 0.2850 - val_loss: 0.2854\n",
            "Epoch 34/40\n",
            "1531/1531 [==============================] - 122s 80ms/step - loss: 0.2853 - val_loss: 0.2844\n",
            "Epoch 35/40\n",
            "1531/1531 [==============================] - 122s 79ms/step - loss: 0.2846 - val_loss: 0.2838\n",
            "Epoch 36/40\n",
            "1531/1531 [==============================] - 122s 80ms/step - loss: 0.2847 - val_loss: 0.2843\n",
            "Epoch 37/40\n",
            "1531/1531 [==============================] - 118s 77ms/step - loss: 0.2841 - val_loss: 0.2846\n",
            "Epoch 38/40\n",
            "1531/1531 [==============================] - 117s 76ms/step - loss: 0.2848 - val_loss: 0.2845\n",
            "Epoch 39/40\n",
            "1531/1531 [==============================] - 116s 76ms/step - loss: 0.2845 - val_loss: 0.2842\n",
            "Epoch 40/40\n",
            "1531/1531 [==============================] - 116s 76ms/step - loss: 0.2841 - val_loss: 0.2841\n"
          ],
          "name": "stdout"
        }
      ]
    },
    {
      "cell_type": "markdown",
      "metadata": {
        "id": "P7jrzf7UnVwL"
      },
      "source": [
        "That reduced the validaiton error but the final validation loss is still slightly higher than the unregularized model and mae is about $2.17^\\circ$ degree. Nevertheless, this model does not overfit and generalizes better than the unregularized model and the evaluation scores are more stable. You can further try to improve the model by tuning the hyperparameters such as the numeber of neurons in the recurrent layer, the learning rate and the drop out and weight decay rates. \n"
      ]
    },
    {
      "cell_type": "code",
      "metadata": {
        "id": "LhdlsC9_eCt9",
        "colab": {
          "base_uri": "https://localhost:8080/"
        },
        "outputId": "ef13678e-a39d-4864-fe92-de26c9cceff6"
      },
      "source": [
        "mae_recurrent_regularized=model_regularized.evaluate(val_gen, steps=val_steps)\n",
        "val['T (degC)'].std(axis=0)*mae_recurrent_regularized"
      ],
      "execution_count": null,
      "outputs": [
        {
          "output_type": "stream",
          "text": [
            "436/436 [==============================] - 4s 8ms/step - loss: 0.2841\n"
          ],
          "name": "stdout"
        },
        {
          "output_type": "execute_result",
          "data": {
            "text/plain": [
              "2.173445837579321"
            ]
          },
          "metadata": {
            "tags": []
          },
          "execution_count": 50
        }
      ]
    },
    {
      "cell_type": "markdown",
      "metadata": {
        "id": "5M7bd9fSeCuD"
      },
      "source": [
        "## Stacking recurrent layers"
      ]
    },
    {
      "cell_type": "markdown",
      "metadata": {
        "id": "XfJTu0lNeCuE"
      },
      "source": [
        "Because you’re no longer overfitting but seem to have hit a performance bottleneck, you should consider increasing the capacity of the network. Recall the description of\n",
        "the universal machine-learning workflow: it’s generally a good idea to increase the capacity of your network until overfitting becomes the primary obstacle (a\n",
        "you’re already taking basic steps to mitigate overfitting, such as using dropout). As long as you aren’t overfitting too badly, you’re likely under capacity.\n",
        "Increasing network capacity is typically done by increasing the number of units in the layers or adding more layers. Recurrent layer stacking is a classic way to build\n",
        "more-powerful recurrent networks: for instance, what currently powers the Google Translate algorithm is a stack of seven large LSTM layers—that’s huge.\n",
        "\n",
        "To stack recurrent layers on top of each other in Keras, all intermediate layers should return their full sequence of outputs (a 3D tensor) rather than their output at\n",
        "the last timestep. This is done by specifying <code>return_sequences=True</code> ."
      ]
    },
    {
      "cell_type": "code",
      "metadata": {
        "id": "iuYN9xWOeCuE",
        "colab": {
          "base_uri": "https://localhost:8080/"
        },
        "outputId": "e44cb93e-2623-444e-e7b4-9551ff3b864c"
      },
      "source": [
        "\n",
        "train_steps= int((train_df.shape[0]-LOOKBACK-OFFSET)/BATCH_SIZE)\n",
        "val_steps= int((val_df.shape[0]-LOOKBACK-OFFSET)/BATCH_SIZE)\n",
        "\n",
        "early_stopping = tf.keras.callbacks.EarlyStopping(monitor='val_loss', patience=5, min_delta=1e-3, restore_best_weights=True)\n",
        "\n",
        "model=keras.Sequential(\n",
        "    [\n",
        "        layers.GRU(32, dropout=0.1, recurrent_dropout=0.5, kernel_regularizer=regularizers.l2(0.001), \n",
        "                   recurrent_regularizer=regularizers.l2(0.001), return_sequences=True),\n",
        "        layers.GRU(64, dropout=0.1, recurrent_dropout=0.5, kernel_regularizer=regularizers.l2(0.001), \n",
        "                   recurrent_regularizer=regularizers.l2(0.001)),\n",
        "        layers.Dense(1)\n",
        "    ])\n",
        "model.compile(optimizer='Adam', loss='mae')\n",
        "\n",
        "\n",
        "history = model.fit(train_gen, steps_per_epoch=train_steps, epochs=30, validation_data=val_gen, validation_steps=val_steps, callbacks=[early_stopping])"
      ],
      "execution_count": null,
      "outputs": [
        {
          "output_type": "stream",
          "text": [
            "WARNING:tensorflow:Layer gru_11 will not use cuDNN kernel since it doesn't meet the cuDNN kernel criteria. It will use generic GPU kernel as fallback when running on GPU\n",
            "WARNING:tensorflow:Layer gru_12 will not use cuDNN kernel since it doesn't meet the cuDNN kernel criteria. It will use generic GPU kernel as fallback when running on GPU\n",
            "Epoch 1/30\n",
            "1531/1531 [==============================] - 230s 150ms/step - loss: 0.3945 - val_loss: 0.3369\n",
            "Epoch 2/30\n",
            "1531/1531 [==============================] - 229s 149ms/step - loss: 0.3411 - val_loss: 0.3161\n",
            "Epoch 3/30\n",
            "1531/1531 [==============================] - 232s 152ms/step - loss: 0.3272 - val_loss: 0.3133\n",
            "Epoch 4/30\n",
            "1531/1531 [==============================] - 233s 152ms/step - loss: 0.3207 - val_loss: 0.3074\n",
            "Epoch 5/30\n",
            "1531/1531 [==============================] - 234s 153ms/step - loss: 0.3160 - val_loss: 0.3066\n",
            "Epoch 6/30\n",
            "1531/1531 [==============================] - 234s 153ms/step - loss: 0.3137 - val_loss: 0.3042\n",
            "Epoch 7/30\n",
            "1531/1531 [==============================] - 239s 156ms/step - loss: 0.3121 - val_loss: 0.3025\n",
            "Epoch 8/30\n",
            "1531/1531 [==============================] - 237s 155ms/step - loss: 0.3108 - val_loss: 0.3008\n",
            "Epoch 9/30\n",
            "1531/1531 [==============================] - 237s 155ms/step - loss: 0.3104 - val_loss: 0.2999\n",
            "Epoch 10/30\n",
            "1531/1531 [==============================] - 239s 156ms/step - loss: 0.3095 - val_loss: 0.2959\n",
            "Epoch 11/30\n",
            "1531/1531 [==============================] - 238s 156ms/step - loss: 0.3088 - val_loss: 0.2985\n",
            "Epoch 12/30\n",
            "1531/1531 [==============================] - 238s 155ms/step - loss: 0.3084 - val_loss: 0.2952\n",
            "Epoch 13/30\n",
            "1531/1531 [==============================] - 239s 156ms/step - loss: 0.3071 - val_loss: 0.2950\n",
            "Epoch 14/30\n",
            "1531/1531 [==============================] - 238s 155ms/step - loss: 0.3070 - val_loss: 0.2955\n",
            "Epoch 15/30\n",
            "1531/1531 [==============================] - 235s 153ms/step - loss: 0.3066 - val_loss: 0.2933\n",
            "Epoch 16/30\n",
            "1531/1531 [==============================] - 234s 153ms/step - loss: 0.3053 - val_loss: 0.2922\n",
            "Epoch 17/30\n",
            "1531/1531 [==============================] - 235s 153ms/step - loss: 0.3054 - val_loss: 0.2936\n",
            "Epoch 18/30\n",
            "1531/1531 [==============================] - 234s 153ms/step - loss: 0.3053 - val_loss: 0.2933\n",
            "Epoch 19/30\n",
            "1531/1531 [==============================] - 233s 152ms/step - loss: 0.3051 - val_loss: 0.2930\n",
            "Epoch 20/30\n",
            "1531/1531 [==============================] - 233s 152ms/step - loss: 0.3044 - val_loss: 0.2919\n",
            "Epoch 21/30\n",
            "1531/1531 [==============================] - 232s 152ms/step - loss: 0.3042 - val_loss: 0.2938\n"
          ],
          "name": "stdout"
        }
      ]
    },
    {
      "cell_type": "code",
      "metadata": {
        "id": "neoQceZveCuQ",
        "colab": {
          "base_uri": "https://localhost:8080/",
          "height": 281
        },
        "outputId": "55cbe390-b9f2-4416-fd40-3b594e93b92e"
      },
      "source": [
        "loss = history.history['loss']\n",
        "val_loss = history.history['val_loss']\n",
        "epochs = range(1, len(loss) + 1)\n",
        "plt.figure()\n",
        "plt.plot(epochs, loss, 'bo', label='Training loss')\n",
        "plt.plot(epochs, val_loss, 'b', label='Validation loss')\n",
        "plt.title('Training and validation loss')\n",
        "plt.legend()\n",
        "plt.show()"
      ],
      "execution_count": null,
      "outputs": [
        {
          "output_type": "display_data",
          "data": {
            "image/png": "[encoded data removed]",
            "text/plain": [
              "<Figure size 432x288 with 1 Axes>"
            ]
          },
          "metadata": {
            "tags": [],
            "needs_background": "light"
          }
        }
      ]
    },
    {
      "cell_type": "markdown",
      "metadata": {
        "id": "rVX2dLESeCuT"
      },
      "source": [
        " Overall it appears that stacking more recurrent layers ddid not help much on this dataset."
      ]
    },
    {
      "cell_type": "markdown",
      "metadata": {
        "id": "XAXSMGNBZlcG"
      },
      "source": [
        "## Evaluating the model on the test set\n",
        "Let's evaluate our best model ( the regularized recurrent model) on the test data. The mae of the model on the test data is $1.94^\\circ$ degree. This means on average the model was able to predict the temprature 24 hours in the future with $1.94^\\circ$ error.\n"
      ]
    },
    {
      "cell_type": "code",
      "metadata": {
        "id": "bYcAq44TZ9Ft",
        "colab": {
          "base_uri": "https://localhost:8080/"
        },
        "outputId": "33a00dbb-4767-4d32-c4d4-8ba4934f0fdc"
      },
      "source": [
        "test_steps= int((test_df.shape[0]-LOOKBACK-OFFSET)/BATCH_SIZE)\n",
        "mae_test=model_regularized.evaluate(test_gen, steps=test_steps)\n",
        "test['T (degC)'].std(axis=0)*mae_test"
      ],
      "execution_count": null,
      "outputs": [
        {
          "output_type": "stream",
          "text": [
            "217/217 [==============================] - 2s 8ms/step - loss: 0.2477\n"
          ],
          "name": "stdout"
        },
        {
          "output_type": "execute_result",
          "data": {
            "text/plain": [
              "1.9439480412958081"
            ]
          },
          "metadata": {
            "tags": []
          },
          "execution_count": 60
        }
      ]
    }
  ]
}