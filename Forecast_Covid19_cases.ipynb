{
  "nbformat": 4,
  "nbformat_minor": 0,
  "metadata": {
    "colab": {
      "name": "Forecast_Covid19_cases.ipynb",
      "provenance": [],
      "collapsed_sections": [],
      "include_colab_link": true
    },
    "kernelspec": {
      "name": "python3",
      "display_name": "Python 3"
    },
    "language_info": {
      "name": "python"
    }
  },
  "cells": [
    {
      "cell_type": "markdown",
      "metadata": {
        "id": "view-in-github",
        "colab_type": "text"
      },
      "source": [
        "<a href=\"https://colab.research.google.com/github/Tamrika/Deep-Learning/blob/main/Forecast_Covid19_cases.ipynb\" target=\"_parent\"><img src=\"https://colab.research.google.com/assets/colab-badge.svg\" alt=\"Open In Colab\"/></a>"
      ]
    },
    {
      "cell_type": "markdown",
      "metadata": {
        "id": "MilbSg2QalEM"
      },
      "source": [
        "# Time series forecasting with RNNs "
      ]
    },
    {
      "cell_type": "markdown",
      "metadata": {
        "id": "6NaRe9I1ao45"
      },
      "source": [
        "### Problem: \n",
        "Train a deep learning model to forecast daily confirmed Covid 19 casesfor each state 7 days into the future"
      ]
    },
    {
      "cell_type": "markdown",
      "metadata": {
        "id": "ZOIdy4vzbr1y"
      },
      "source": [
        "Gathering daily count of Covid 19 confirmed cases for each State in the US reported by John Hopkins University Center for System Science and Engineering"
      ]
    },
    {
      "cell_type": "markdown",
      "metadata": {
        "id": "TdhrE9MecQw3"
      },
      "source": [
        "\n",
        "## Let's import the libraries we need and download the data into colab session."
      ]
    },
    {
      "cell_type": "code",
      "metadata": {
        "colab": {
          "base_uri": "https://localhost:8080/"
        },
        "id": "Ty4-iyWIcI-w",
        "outputId": "0ecc0268-2a8a-4445-b47d-f53a0b2a5dc5"
      },
      "source": [
        "!pip install pandas\n",
        "import os\n",
        "import datetime\n",
        "import matplotlib as mpl\n",
        "import matplotlib.pyplot as plt\n",
        "import numpy as np\n",
        "import pandas as pd\n",
        "import tensorflow as tf\n",
        "from tensorflow import keras\n",
        "from tensorflow.keras import layers\n",
        "from tensorflow.keras import regularizers\n",
        "from tensorflow.keras.optimizers import Adam"
      ],
      "execution_count": null,
      "outputs": [
        {
          "output_type": "stream",
          "text": [
            "Requirement already satisfied: pandas in /usr/local/lib/python3.7/dist-packages (1.1.5)\n",
            "Requirement already satisfied: python-dateutil>=2.7.3 in /usr/local/lib/python3.7/dist-packages (from pandas) (2.8.1)\n",
            "Requirement already satisfied: pytz>=2017.2 in /usr/local/lib/python3.7/dist-packages (from pandas) (2018.9)\n",
            "Requirement already satisfied: numpy>=1.15.4 in /usr/local/lib/python3.7/dist-packages (from pandas) (1.19.5)\n",
            "Requirement already satisfied: six>=1.5 in /usr/local/lib/python3.7/dist-packages (from python-dateutil>=2.7.3->pandas) (1.15.0)\n"
          ],
          "name": "stdout"
        }
      ]
    },
    {
      "cell_type": "code",
      "metadata": {
        "colab": {
          "base_uri": "https://localhost:8080/"
        },
        "id": "v_LdkziFclxY",
        "outputId": "bf31c4a8-689b-4b11-b230-76a223b19017"
      },
      "source": [
        "#Getting the Data\n",
        "# downloading the files from dropbox\n",
        "!wget --no-check-certificate  \"https://uofi.box.com/shared/static/wjwxj10k2f6u8bjohsl17tmfmaoo7zhg.csv\" -O covid.csv\n",
        "df = pd.read_csv('/content/covid.csv')\n"
      ],
      "execution_count": null,
      "outputs": [
        {
          "output_type": "stream",
          "text": [
            "--2021-04-17 19:50:19--  https://uofi.box.com/shared/static/wjwxj10k2f6u8bjohsl17tmfmaoo7zhg.csv\n",
            "Resolving uofi.box.com (uofi.box.com)... 107.152.24.197\n",
            "Connecting to uofi.box.com (uofi.box.com)|107.152.24.197|:443... connected.\n",
            "HTTP request sent, awaiting response... 301 Moved Permanently\n",
            "Location: /public/static/wjwxj10k2f6u8bjohsl17tmfmaoo7zhg.csv [following]\n",
            "--2021-04-17 19:50:19--  https://uofi.box.com/public/static/wjwxj10k2f6u8bjohsl17tmfmaoo7zhg.csv\n",
            "Reusing existing connection to uofi.box.com:443.\n",
            "HTTP request sent, awaiting response... 301 Moved Permanently\n",
            "Location: https://uofi.app.box.com/public/static/wjwxj10k2f6u8bjohsl17tmfmaoo7zhg.csv [following]\n",
            "--2021-04-17 19:50:19--  https://uofi.app.box.com/public/static/wjwxj10k2f6u8bjohsl17tmfmaoo7zhg.csv\n",
            "Resolving uofi.app.box.com (uofi.app.box.com)... 107.152.24.201\n",
            "Connecting to uofi.app.box.com (uofi.app.box.com)|107.152.24.201|:443... connected.\n",
            "HTTP request sent, awaiting response... 302 Found\n",
            "Location: https://public.boxcloud.com/d/1/b1!TDpDoA5GAM36tW0VrCAb-nyjyQ0CKjzUC_T-NR1QgwkY4quoB1eXFd6TaqMUGkycLEe7vLntPho0353iWcZuRznphIL0iDnI6iDVexGWFU7IMYJQRp4hpzw-r0pt17IJIV9c2iBYk7JJkfQFbC8zKOGpgNVOiTSGu2sHff9AZjPNUFOanzn5ApaR3APX9X-PHdqsTf0_zxGVjJQtnsEdY2-1ajzTIliYq6x1dxdOKIwGnUEDBgbB1EUECKvja09GY6wsedfGJCUUwvEk6SPQ7_32fNYlqzKwrQY0iIEmYtmxvA-O3oyqDLkcmu5G5zqaWNCLUK951j-a8nb1P0o_FB2LdrvciWR-ckjYVu5B_ym7LdqtpADwBdxgrofxvUZTQTbRyl6805o9aw7WBGWUNKKzjnt6MrwyEdDAAB7Ax7Pgm9HsFIzsLC_bh3pAReP_YvQiZK1WdDw-ahOIQ0TZnC9L0cfUFpqVVpktwYSLY_SIOMOlHO9oxgw9-pf0mC3_VGMNTFx1nMlzjn1RYH-86fhNccauv1rMye1miGBZx9wJD-JTZ_VBIhsSItzpDqB1LBJlKbr8Mtn2Kz5qw2hcH_gjYyVEvgWeb4C_ifjHKySq1ylaBraGPf85LjuGTjbUAcp34Ww2iSY3_YuCDmeORigQj1tfyTfFgLh_yzSkhW3K6wZwISasXW5r4PTNlIHa1fITbzZfHnU5SXb54GEwoltsnhRshcDaeFfZwyPP7Vb-YEdShF917eb9MNBSRoc6-ZghKvkxfalP8QO1B4_f1cWCZs-b8F8sYBlguOp8bTuC2OT9xOAOHXlJ2aTzKuvaaKmMJd7Htd_-9I4IC0E28KCzQSbdG9tZZ6WLkBETvCvbuoX4msct7girdkerJF-u061Ge6c7CvbMZjJ9R-I0ucsNDES5KejQE5uUo_b_bLA2j3kRWL6R0SkdC759dNEcUfifhJTsqdeKoM5gbBFJZxyFyE6E1T-nCG6w0n08EWtvvL0chVUdUA5GoGmu4JcjnRo-z8J-CRzObaUCbYBtRgMU6p9rR1DcTg-XMiq1qHlhvEAEEh9H6HHx-G2KQc7Sz8Af4aE52XHh7s3UjXHRmYHcAtd9p7wA6BAR0jHN4Z4yHeZeEgHVmm0FkS59YNLRfXrzk9x4L4PtlRZ99P2plJTfBrN4EXWSW-WuP0M_1O6bY4z0uxefoLu868b_2AdGzFN4RP3sOHd__okINaJmCb8imssVk-ea3lHW1h945pg2R0b2mpZaul4CZeBY2bbnQ4VLatcqdbHDdlSGSOU92qk6CViBfQaQCpQ4cUL5AITBKs9AUYybb3wheI3fNOMoChWgDNzJAg8QHJMXgfErZt2ZmPuNkeJH8DnX6kEVCbihiQMMGxA6cw8XDp_Tn2TEMzBamlv0JDBWVs8vtARr_yZ1/download [following]\n",
            "--2021-04-17 19:50:19--  https://public.boxcloud.com/d/1/b1!TDpDoA5GAM36tW0VrCAb-nyjyQ0CKjzUC_T-NR1QgwkY4quoB1eXFd6TaqMUGkycLEe7vLntPho0353iWcZuRznphIL0iDnI6iDVexGWFU7IMYJQRp4hpzw-r0pt17IJIV9c2iBYk7JJkfQFbC8zKOGpgNVOiTSGu2sHff9AZjPNUFOanzn5ApaR3APX9X-PHdqsTf0_zxGVjJQtnsEdY2-1ajzTIliYq6x1dxdOKIwGnUEDBgbB1EUECKvja09GY6wsedfGJCUUwvEk6SPQ7_32fNYlqzKwrQY0iIEmYtmxvA-O3oyqDLkcmu5G5zqaWNCLUK951j-a8nb1P0o_FB2LdrvciWR-ckjYVu5B_ym7LdqtpADwBdxgrofxvUZTQTbRyl6805o9aw7WBGWUNKKzjnt6MrwyEdDAAB7Ax7Pgm9HsFIzsLC_bh3pAReP_YvQiZK1WdDw-ahOIQ0TZnC9L0cfUFpqVVpktwYSLY_SIOMOlHO9oxgw9-pf0mC3_VGMNTFx1nMlzjn1RYH-86fhNccauv1rMye1miGBZx9wJD-JTZ_VBIhsSItzpDqB1LBJlKbr8Mtn2Kz5qw2hcH_gjYyVEvgWeb4C_ifjHKySq1ylaBraGPf85LjuGTjbUAcp34Ww2iSY3_YuCDmeORigQj1tfyTfFgLh_yzSkhW3K6wZwISasXW5r4PTNlIHa1fITbzZfHnU5SXb54GEwoltsnhRshcDaeFfZwyPP7Vb-YEdShF917eb9MNBSRoc6-ZghKvkxfalP8QO1B4_f1cWCZs-b8F8sYBlguOp8bTuC2OT9xOAOHXlJ2aTzKuvaaKmMJd7Htd_-9I4IC0E28KCzQSbdG9tZZ6WLkBETvCvbuoX4msct7girdkerJF-u061Ge6c7CvbMZjJ9R-I0ucsNDES5KejQE5uUo_b_bLA2j3kRWL6R0SkdC759dNEcUfifhJTsqdeKoM5gbBFJZxyFyE6E1T-nCG6w0n08EWtvvL0chVUdUA5GoGmu4JcjnRo-z8J-CRzObaUCbYBtRgMU6p9rR1DcTg-XMiq1qHlhvEAEEh9H6HHx-G2KQc7Sz8Af4aE52XHh7s3UjXHRmYHcAtd9p7wA6BAR0jHN4Z4yHeZeEgHVmm0FkS59YNLRfXrzk9x4L4PtlRZ99P2plJTfBrN4EXWSW-WuP0M_1O6bY4z0uxefoLu868b_2AdGzFN4RP3sOHd__okINaJmCb8imssVk-ea3lHW1h945pg2R0b2mpZaul4CZeBY2bbnQ4VLatcqdbHDdlSGSOU92qk6CViBfQaQCpQ4cUL5AITBKs9AUYybb3wheI3fNOMoChWgDNzJAg8QHJMXgfErZt2ZmPuNkeJH8DnX6kEVCbihiQMMGxA6cw8XDp_Tn2TEMzBamlv0JDBWVs8vtARr_yZ1/download\n",
            "Resolving public.boxcloud.com (public.boxcloud.com)... 107.152.24.200\n",
            "Connecting to public.boxcloud.com (public.boxcloud.com)|107.152.24.200|:443... connected.\n",
            "HTTP request sent, awaiting response... 200 OK\n",
            "Length: 3364241 (3.2M) [text/csv]\n",
            "Saving to: ‘covid.csv’\n",
            "\n",
            "covid.csv           100%[===================>]   3.21M  --.-KB/s    in 0.1s    \n",
            "\n",
            "2021-04-17 19:50:20 (22.5 MB/s) - ‘covid.csv’ saved [3364241/3364241]\n",
            "\n"
          ],
          "name": "stdout"
        }
      ]
    },
    {
      "cell_type": "markdown",
      "metadata": {
        "id": "n4R4lsSEz11H"
      },
      "source": [
        "## Inspecting and Cleaning data (+8pt)\n",
        "1-Convert the “Last_Update” column to datetime and Use sort_values to sort the dataframe by“Last_update”\n",
        "\n",
        "2-    Use pandas.DataFrame.describe to get a summary statistics of data. Are there any invalidentries in the data? If so, use commonsense to replace the invalid entries.\n",
        "\n",
        "3-    Remove the rows where the Province_State is “Recovered”, “American_Samoa”, “DiamondPrincess” or “Grand Princess” (These Province_states have mostly NA or zeros for confirmedcases)\n",
        "\n",
        "4-Count and print the number of rows for each remaining Province_State. Most States should nowhave 351 data points\n",
        "\n",
        "5-Drop the following columns. These variables are the same for each State.\"Lat\",\"Long_\",\"FIPS\",\"Country_Region\",\"UID\",\"ISO3\"\n",
        "\n",
        "6-Drop the following columns. These variables are either redundant or missing too many records.\"Total_Test_Results\",\"Case_Fatality_Ratio\",\"Hospitalization_Rate\",\"People_Hospitalized\"\n",
        "\n",
        "\n",
        "7-Print the number of missing values in the remaining columns.  Use fillna function to fill themissing values with a value that does not naturally occur in the data ( such as -1).\n",
        "\n",
        "8-    The “Last_Update” column is useful but not in the string format. Convert this column to“month”,  “day of the week” and “day of the month” using pandas.series.dt.month,pandas.series.dt.dayofweek and  pandas.series.dt.day"
      ]
    },
    {
      "cell_type": "markdown",
      "metadata": {
        "id": "Vvxnafy4cFz7"
      },
      "source": [
        "### Converted the “Last_Update” column to datetime and sorted the dataframe by“Last_update”"
      ]
    },
    {
      "cell_type": "code",
      "metadata": {
        "colab": {
          "base_uri": "https://localhost:8080/"
        },
        "id": "hKnt578slLPa",
        "outputId": "5a10e296-32e9-486a-8e20-0f3695ae71b6"
      },
      "source": [
        "# Part 1\n",
        "df[\"Last_Update\"] = pd.to_datetime(df[\"Last_Update\"])\n",
        "df = df.sort_values(\"Last_Update\")\n",
        "df[\"Last_Update\"]"
      ],
      "execution_count": null,
      "outputs": [
        {
          "output_type": "execute_result",
          "data": {
            "text/plain": [
              "15619   2020-04-12 23:18:15\n",
              "15643   2020-04-12 23:18:15\n",
              "15642   2020-04-12 23:18:15\n",
              "15641   2020-04-12 23:18:15\n",
              "15640   2020-04-12 23:18:15\n",
              "                ...        \n",
              "12831                   NaT\n",
              "12887                   NaT\n",
              "15672                   NaT\n",
              "15674                   NaT\n",
              "15675                   NaT\n",
              "Name: Last_Update, Length: 20376, dtype: datetime64[ns]"
            ]
          },
          "metadata": {
            "tags": []
          },
          "execution_count": 89
        }
      ]
    },
    {
      "cell_type": "markdown",
      "metadata": {
        "id": "ml9MT1B7cE_S"
      },
      "source": [
        "### Describe summary statistics and check for invalidentries in the data"
      ]
    },
    {
      "cell_type": "code",
      "metadata": {
        "colab": {
          "base_uri": "https://localhost:8080/",
          "height": 291
        },
        "id": "xBMhupnVlLPf",
        "outputId": "f46a0161-fa22-4dbe-e2d6-e7f90c028dfe"
      },
      "source": [
        "# Part 2\n",
        "df.describe() #Remove -ve data and records with null update date and sort\n",
        "\n",
        "#Remove data with -ve Active count. It might be bad data.\n",
        "negative_rows = df[(df['Active']<0)].index\n",
        "df.drop(negative_rows, inplace = True)"
      ],
      "execution_count": null,
      "outputs": [
        {
          "output_type": "execute_result",
          "data": {
            "text/html": [
              "<div>\n",
              "<style scoped>\n",
              "    .dataframe tbody tr th:only-of-type {\n",
              "        vertical-align: middle;\n",
              "    }\n",
              "\n",
              "    .dataframe tbody tr th {\n",
              "        vertical-align: top;\n",
              "    }\n",
              "\n",
              "    .dataframe thead th {\n",
              "        text-align: right;\n",
              "    }\n",
              "</style>\n",
              "<table border=\"1\" class=\"dataframe\">\n",
              "  <thead>\n",
              "    <tr style=\"text-align: right;\">\n",
              "      <th></th>\n",
              "      <th>Lat</th>\n",
              "      <th>Long_</th>\n",
              "      <th>Confirmed</th>\n",
              "      <th>Deaths</th>\n",
              "      <th>Recovered</th>\n",
              "      <th>Active</th>\n",
              "      <th>FIPS</th>\n",
              "      <th>Incident_Rate</th>\n",
              "      <th>People_Tested</th>\n",
              "      <th>People_Hospitalized</th>\n",
              "      <th>Mortality_Rate</th>\n",
              "      <th>UID</th>\n",
              "      <th>Testing_Rate</th>\n",
              "      <th>Hospitalization_Rate</th>\n",
              "      <th>Total_Test_Results</th>\n",
              "      <th>Case_Fatality_Ratio</th>\n",
              "    </tr>\n",
              "  </thead>\n",
              "  <tbody>\n",
              "    <tr>\n",
              "      <th>count</th>\n",
              "      <td>19656.000000</td>\n",
              "      <td>19656.000000</td>\n",
              "      <td>2.037600e+04</td>\n",
              "      <td>20376.00000</td>\n",
              "      <td>1.512200e+04</td>\n",
              "      <td>1.908300e+04</td>\n",
              "      <td>20357.000000</td>\n",
              "      <td>19656.000000</td>\n",
              "      <td>1.181600e+04</td>\n",
              "      <td>5129.000000</td>\n",
              "      <td>12027.000000</td>\n",
              "      <td>2.037600e+04</td>\n",
              "      <td>19656.000000</td>\n",
              "      <td>5129.000000</td>\n",
              "      <td>7.840000e+03</td>\n",
              "      <td>7980.000000</td>\n",
              "    </tr>\n",
              "    <tr>\n",
              "      <th>mean</th>\n",
              "      <td>36.840089</td>\n",
              "      <td>-85.206614</td>\n",
              "      <td>1.989882e+05</td>\n",
              "      <td>4293.18615</td>\n",
              "      <td>8.578908e+04</td>\n",
              "      <td>1.056526e+05</td>\n",
              "      <td>3279.057867</td>\n",
              "      <td>3240.041881</td>\n",
              "      <td>1.061228e+06</td>\n",
              "      <td>6151.226555</td>\n",
              "      <td>3.305093</td>\n",
              "      <td>7.676840e+07</td>\n",
              "      <td>43990.364680</td>\n",
              "      <td>12.143891</td>\n",
              "      <td>5.044110e+06</td>\n",
              "      <td>1.710749</td>\n",
              "    </tr>\n",
              "    <tr>\n",
              "      <th>std</th>\n",
              "      <td>10.789666</td>\n",
              "      <td>49.309466</td>\n",
              "      <td>3.760485e+05</td>\n",
              "      <td>7461.67932</td>\n",
              "      <td>1.933303e+05</td>\n",
              "      <td>2.789115e+05</td>\n",
              "      <td>17234.716176</td>\n",
              "      <td>3323.238490</td>\n",
              "      <td>1.958114e+06</td>\n",
              "      <td>13791.089316</td>\n",
              "      <td>2.482413</td>\n",
              "      <td>2.356827e+07</td>\n",
              "      <td>46421.426826</td>\n",
              "      <td>5.245396</td>\n",
              "      <td>7.118625e+06</td>\n",
              "      <td>0.800691</td>\n",
              "    </tr>\n",
              "    <tr>\n",
              "      <th>min</th>\n",
              "      <td>-14.271000</td>\n",
              "      <td>-170.132200</td>\n",
              "      <td>0.000000e+00</td>\n",
              "      <td>0.00000</td>\n",
              "      <td>0.000000e+00</td>\n",
              "      <td>-1.207200e+05</td>\n",
              "      <td>1.000000</td>\n",
              "      <td>0.000000</td>\n",
              "      <td>3.000000e+00</td>\n",
              "      <td>2.000000</td>\n",
              "      <td>0.000000</td>\n",
              "      <td>1.600000e+01</td>\n",
              "      <td>0.000000</td>\n",
              "      <td>1.418440</td>\n",
              "      <td>0.000000e+00</td>\n",
              "      <td>0.000000</td>\n",
              "    </tr>\n",
              "    <tr>\n",
              "      <th>25%</th>\n",
              "      <td>34.594600</td>\n",
              "      <td>-101.165775</td>\n",
              "      <td>1.015375e+04</td>\n",
              "      <td>235.00000</td>\n",
              "      <td>3.872000e+03</td>\n",
              "      <td>3.181500e+03</td>\n",
              "      <td>18.000000</td>\n",
              "      <td>567.259394</td>\n",
              "      <td>1.091570e+05</td>\n",
              "      <td>558.000000</td>\n",
              "      <td>1.667964</td>\n",
              "      <td>8.400001e+07</td>\n",
              "      <td>9672.659526</td>\n",
              "      <td>8.359942</td>\n",
              "      <td>1.104574e+06</td>\n",
              "      <td>1.292327</td>\n",
              "    </tr>\n",
              "    <tr>\n",
              "      <th>50%</th>\n",
              "      <td>39.061850</td>\n",
              "      <td>-87.944200</td>\n",
              "      <td>6.275200e+04</td>\n",
              "      <td>1366.50000</td>\n",
              "      <td>1.754850e+04</td>\n",
              "      <td>1.810900e+04</td>\n",
              "      <td>32.000000</td>\n",
              "      <td>1910.854173</td>\n",
              "      <td>3.938205e+05</td>\n",
              "      <td>2014.000000</td>\n",
              "      <td>2.818801</td>\n",
              "      <td>8.400003e+07</td>\n",
              "      <td>27071.135471</td>\n",
              "      <td>11.282093</td>\n",
              "      <td>2.677664e+06</td>\n",
              "      <td>1.585610</td>\n",
              "    </tr>\n",
              "    <tr>\n",
              "      <th>75%</th>\n",
              "      <td>42.361650</td>\n",
              "      <td>-76.970625</td>\n",
              "      <td>2.219342e+05</td>\n",
              "      <td>4906.75000</td>\n",
              "      <td>8.425575e+04</td>\n",
              "      <td>8.257850e+04</td>\n",
              "      <td>48.000000</td>\n",
              "      <td>5239.619910</td>\n",
              "      <td>1.114765e+06</td>\n",
              "      <td>6001.000000</td>\n",
              "      <td>4.413457</td>\n",
              "      <td>8.400004e+07</td>\n",
              "      <td>66841.039704</td>\n",
              "      <td>15.268243</td>\n",
              "      <td>6.183069e+06</td>\n",
              "      <td>1.970127</td>\n",
              "    </tr>\n",
              "    <tr>\n",
              "      <th>max</th>\n",
              "      <td>61.370700</td>\n",
              "      <td>145.673900</td>\n",
              "      <td>3.660713e+06</td>\n",
              "      <td>58949.00000</td>\n",
              "      <td>2.470308e+06</td>\n",
              "      <td>3.542626e+06</td>\n",
              "      <td>99999.000000</td>\n",
              "      <td>13461.240686</td>\n",
              "      <td>1.956515e+07</td>\n",
              "      <td>89995.000000</td>\n",
              "      <td>70.370370</td>\n",
              "      <td>8.410000e+07</td>\n",
              "      <td>324513.456697</td>\n",
              "      <td>38.501190</td>\n",
              "      <td>5.296230e+07</td>\n",
              "      <td>6.405536</td>\n",
              "    </tr>\n",
              "  </tbody>\n",
              "</table>\n",
              "</div>"
            ],
            "text/plain": [
              "                Lat         Long_  ...  Total_Test_Results  Case_Fatality_Ratio\n",
              "count  19656.000000  19656.000000  ...        7.840000e+03          7980.000000\n",
              "mean      36.840089    -85.206614  ...        5.044110e+06             1.710749\n",
              "std       10.789666     49.309466  ...        7.118625e+06             0.800691\n",
              "min      -14.271000   -170.132200  ...        0.000000e+00             0.000000\n",
              "25%       34.594600   -101.165775  ...        1.104574e+06             1.292327\n",
              "50%       39.061850    -87.944200  ...        2.677664e+06             1.585610\n",
              "75%       42.361650    -76.970625  ...        6.183069e+06             1.970127\n",
              "max       61.370700    145.673900  ...        5.296230e+07             6.405536\n",
              "\n",
              "[8 rows x 16 columns]"
            ]
          },
          "metadata": {
            "tags": []
          },
          "execution_count": 90
        }
      ]
    },
    {
      "cell_type": "markdown",
      "metadata": {
        "id": "5h7yeaNdcujp"
      },
      "source": [
        "### Remove the rows where the Province_State is “Recovered”, “American_Samoa”, “DiamondPrincess” or “Grand Princess” (These Province_states have mostly NA or zeros for confirmedcases)"
      ]
    },
    {
      "cell_type": "code",
      "metadata": {
        "id": "MoxNhbxulLPg"
      },
      "source": [
        "# Part 3\n",
        "df = df[~df['Province_State'].isin(['Recovered','Grand Princess','American Samoa','Diamond Princess'])].copy()"
      ],
      "execution_count": null,
      "outputs": []
    },
    {
      "cell_type": "markdown",
      "metadata": {
        "id": "y2HSmL_bcthY"
      },
      "source": [
        "### Count and print the number of rows for each remaining Province_State. Most States should nowhave 351 data points"
      ]
    },
    {
      "cell_type": "code",
      "metadata": {
        "colab": {
          "base_uri": "https://localhost:8080/"
        },
        "id": "ISyqsd5ylLPg",
        "outputId": "23f4eff5-cfab-485a-cc7f-81477c055251"
      },
      "source": [
        "# Part 4 - Count and print the number of rows for each remaining Province_State. Most States should nowhave 351 data points\n",
        "df['Province_State'].value_counts()"
      ],
      "execution_count": null,
      "outputs": [
        {
          "output_type": "execute_result",
          "data": {
            "text/plain": [
              "Colorado                    351\n",
              "Utah                        351\n",
              "Puerto Rico                 351\n",
              "Maryland                    351\n",
              "Hawaii                      351\n",
              "Ohio                        351\n",
              "Nebraska                    351\n",
              "Illinois                    351\n",
              "Tennessee                   351\n",
              "Maine                       351\n",
              "Kentucky                    351\n",
              "South Dakota                351\n",
              "Wyoming                     351\n",
              "Texas                       351\n",
              "South Carolina              351\n",
              "Arizona                     351\n",
              "District of Columbia        351\n",
              "Idaho                       351\n",
              "Washington                  351\n",
              "Minnesota                   351\n",
              "Rhode Island                351\n",
              "Arkansas                    351\n",
              "Louisiana                   351\n",
              "New Mexico                  351\n",
              "Alaska                      351\n",
              "Nevada                      351\n",
              "Delaware                    351\n",
              "Georgia                     351\n",
              "Missouri                    351\n",
              "Pennsylvania                351\n",
              "Vermont                     351\n",
              "Kansas                      351\n",
              "Michigan                    351\n",
              "Alabama                     351\n",
              "West Virginia               351\n",
              "Virginia                    351\n",
              "Connecticut                 351\n",
              "New Jersey                  351\n",
              "California                  351\n",
              "Massachusetts               351\n",
              "Northern Mariana Islands    351\n",
              "Indiana                     351\n",
              "Guam                        351\n",
              "Wisconsin                   351\n",
              "New Hampshire               351\n",
              "Iowa                        351\n",
              "North Carolina              351\n",
              "North Dakota                351\n",
              "Florida                     351\n",
              "Virgin Islands              351\n",
              "New York                    351\n",
              "Mississippi                 351\n",
              "Montana                     351\n",
              "Oregon                      351\n",
              "Oklahoma                    351\n",
              "Name: Province_State, dtype: int64"
            ]
          },
          "metadata": {
            "tags": []
          },
          "execution_count": 19
        }
      ]
    },
    {
      "cell_type": "markdown",
      "metadata": {
        "id": "Gv3GDlofc6uy"
      },
      "source": [
        "### *   Drop the following columns. These variables are the same for each State.\"Lat\",\"Long_\",\"FIPS\",\"Country_Region\",\"UID\",\"ISO3\"\n",
        "### *   Drop the following columns. These variables are either redundant or missing too many records.\"Total_Test_Results\",\"Case_Fatality_Ratio\",\"Hospitalization_Rate\",\"People_Hospitalized\"\n",
        "\n",
        "\n"
      ]
    },
    {
      "cell_type": "code",
      "metadata": {
        "id": "w96u24OOlLPh"
      },
      "source": [
        "# Part 5 & 6 \n",
        "df.drop(['Lat','Long_','FIPS','Country_Region','UID','ISO3','Total_Test_Results','Case_Fatality_Ratio','Hospitalization_Rate','People_Hospitalized'],axis=1, inplace=True)\n"
      ],
      "execution_count": null,
      "outputs": []
    },
    {
      "cell_type": "code",
      "metadata": {
        "colab": {
          "base_uri": "https://localhost:8080/"
        },
        "id": "XtobtFIAlLPh",
        "outputId": "53174a36-b6db-4c63-dde3-4693c7f7e345"
      },
      "source": [
        "# Part 7\n",
        "df.isna().sum()"
      ],
      "execution_count": null,
      "outputs": [
        {
          "output_type": "execute_result",
          "data": {
            "text/plain": [
              "Province_State       0\n",
              "Last_Update          1\n",
              "Confirmed            0\n",
              "Deaths               0\n",
              "Recovered         4252\n",
              "Active            1210\n",
              "Incident_Rate        0\n",
              "People_Tested     7700\n",
              "Mortality_Rate    7700\n",
              "Testing_Rate         0\n",
              "dtype: int64"
            ]
          },
          "metadata": {
            "tags": []
          },
          "execution_count": 21
        }
      ]
    },
    {
      "cell_type": "markdown",
      "metadata": {
        "id": "WhVVBx9IfUNV"
      },
      "source": [
        "### Print the number of missing values in the remaining columns. Use fillna function to fill themissing values with a value that does not naturally occur in the data ( such as -1)."
      ]
    },
    {
      "cell_type": "code",
      "metadata": {
        "id": "0r2todAKlLPh"
      },
      "source": [
        "#Part 7 & Exclude rows where Last_Update is null as we cannot have lagged data without date\n",
        "df = df[~df['Last_Update'].isnull()].copy()\n",
        "df=df.fillna(-1) "
      ],
      "execution_count": null,
      "outputs": []
    },
    {
      "cell_type": "code",
      "metadata": {
        "colab": {
          "base_uri": "https://localhost:8080/"
        },
        "id": "JKAajUNslLPi",
        "outputId": "b90d64f4-10e0-447f-81c0-97d4f5ad9a33"
      },
      "source": [
        "df.isna().sum()\n",
        "df.info()"
      ],
      "execution_count": null,
      "outputs": [
        {
          "output_type": "stream",
          "text": [
            "<class 'pandas.core.frame.DataFrame'>\n",
            "Int64Index: 19304 entries, 0 to 20375\n",
            "Data columns (total 10 columns):\n",
            " #   Column          Non-Null Count  Dtype  \n",
            "---  ------          --------------  -----  \n",
            " 0   Province_State  19304 non-null  object \n",
            " 1   Last_Update     19304 non-null  object \n",
            " 2   Confirmed       19304 non-null  int64  \n",
            " 3   Deaths          19304 non-null  int64  \n",
            " 4   Recovered       19304 non-null  float64\n",
            " 5   Active          19304 non-null  float64\n",
            " 6   Incident_Rate   19304 non-null  float64\n",
            " 7   People_Tested   19304 non-null  float64\n",
            " 8   Mortality_Rate  19304 non-null  float64\n",
            " 9   Testing_Rate    19304 non-null  float64\n",
            "dtypes: float64(6), int64(2), object(2)\n",
            "memory usage: 1.6+ MB\n"
          ],
          "name": "stdout"
        }
      ]
    },
    {
      "cell_type": "markdown",
      "metadata": {
        "id": "Oo4Las-kf4Yn"
      },
      "source": [
        "### The “Last_Update” column is useful but not in the string format. Convert this column to“month”, “day of the week” and “day of the month” using pandas.series.dt.month,pandas.series.dt.dayofweek and pandas.series.dt.day"
      ]
    },
    {
      "cell_type": "code",
      "metadata": {
        "id": "Fxrt4rOnlLPi"
      },
      "source": [
        "# Part 8\n",
        "df[\"Last_Update\"] = pd.to_datetime(df[\"Last_Update\"])\n",
        "df['year']= (df['Last_Update'].dt.year)\n",
        "df['day of the month']= (df['Last_Update'].dt.month)\n",
        "df['day of the week']= (df['Last_Update'].dt.day)"
      ],
      "execution_count": null,
      "outputs": []
    },
    {
      "cell_type": "markdown",
      "metadata": {
        "id": "0pVW0S1qiixP"
      },
      "source": [
        "## Split and Normalize Data for Each Province_State (+3pt)\n",
        "\n",
        "As each Province_State has its own time series, we need to create a separate dataframe for each state. Split the data for each Province_State into train, validation, and test set.  Please use 80% of samples for each Province_State for training, 10% for validation, and the remaining 10% for testing.Normalize the data for each State. Make sure that you use the mean and std from train data to normalize the validation and test data."
      ]
    },
    {
      "cell_type": "code",
      "metadata": {
        "id": "ppYV1lL48vir",
        "colab": {
          "base_uri": "https://localhost:8080/"
        },
        "outputId": "36a3cde1-3e5c-4942-a0ed-d229a17e4fcc"
      },
      "source": [
        "#train_ds = pd.DataFrame()\n",
        "train_ds ={}\n",
        "test_ds ={}\n",
        "val_ds = {}\n",
        "for state, row in df.groupby('Province_State'):\n",
        "     temp = row\n",
        "     train, validate, test = np.split(temp.sample(frac=1, random_state=42), [int(.8*len(temp)), int(.9*len(temp))])\n",
        "     #print(\"train shape\", train.shape)\n",
        "     #print(\"validation shape\", validate.shape)\n",
        "     #print(\"test shape\", test.shape) \n",
        "     #print(train.isna().sum())\n",
        "     \n",
        "     #Calculating mean and standard deviation\n",
        "     train_mean = train.mean()\n",
        "     train_std = train.std()\n",
        "     \n",
        "     #Excluding Province_State and Last_Update while scaling as they are non-numeric columns\n",
        "     train_df = (train.drop(['Province_State', 'Last_Update'], axis= 1) - train_mean) / train_std\n",
        "     val_df = (validate.drop(['Province_State', 'Last_Update'], axis= 1) - train_mean) / train_std\n",
        "     test_df = (test.drop(['Province_State', 'Last_Update'], axis= 1) - train_mean) / train_std  \n",
        "     \n",
        "     #Adding back excluded rows\n",
        "     train_df['Province_State'] = state\n",
        "     val_df['Province_State']= state\n",
        "     test_df['Province_State']= state\n",
        "\n",
        "     train_df['Last_Update']= train['Last_Update']\n",
        "     val_df['Last_Update']= validate['Last_Update']\n",
        "     test_df['Last_Update']= test['Last_Update']\n",
        "\n",
        "     #Assigning each data frame to a dictionary\n",
        "     train_ds[state] = train_df\n",
        "     test_ds[state] = test_df\n",
        "     val_ds[state] = test_df\n",
        "\n",
        "     \n",
        "    \n",
        "   \n",
        "\n",
        "    "
      ],
      "execution_count": null,
      "outputs": [
        {
          "output_type": "stream",
          "text": [
            "/usr/local/lib/python3.7/dist-packages/ipykernel_launcher.py:14: FutureWarning: DataFrame.mean and DataFrame.median with numeric_only=None will include datetime64 and datetime64tz columns in a future version.\n",
            "  \n"
          ],
          "name": "stderr"
        }
      ]
    },
    {
      "cell_type": "code",
      "metadata": {
        "id": "jC1sV1sVyRGV"
      },
      "source": [
        "#Cross checking the data\n",
        "train_ds['Alabama'].isna().sum()"
      ],
      "execution_count": null,
      "outputs": []
    },
    {
      "cell_type": "markdown",
      "metadata": {
        "id": "ehausIrGmubE"
      },
      "source": [
        "## Preparing Temporal Variables"
      ]
    },
    {
      "cell_type": "markdown",
      "metadata": {
        "id": "oFy7m399a-hl"
      },
      "source": [
        "The following lag_dataframe function takes four parameters:\n",
        "\n",
        "**data**: is the normalized data for each state containing all temporal  features (that is, all features except “Province_State”).  I assume that the last column in your dataframe is the column you want to forecast so please make sure that the dataframe you pass to lag_dataframe function has “Confirmed” variable as its last column. \n",
        "\n",
        "**lags**: the number of previous days/timesteps to use for forecasting the target, that is, the length of the window.\n",
        "\n",
        "**no_features**: Number of variables/features used to predict the target. For this data, you should use the variables day of week,day of month, recovered, Active, Deaths, incident_rate, people_tested, mortality_Rate, Testing_Rate, Confirmed to forecast confirmed cases 7 days into the future. So no_features=10\n",
        "\n",
        "**Lookahead**: The number of days in to the future to forecast the target. For instance if we want to predict the number of confirmed cases 7 days into the future given the data for the past 7 days, then  both lags and lookahed will be equal to 7."
      ]
    },
    {
      "cell_type": "code",
      "metadata": {
        "id": "OPgMeEzgINbX"
      },
      "source": [
        "def lag_dataframe(data,lags,no_features,lookahead):\n",
        "    df=pd.DataFrame(data)\n",
        "    #Make sure that the last column in the data has the variable you want to forcast\n",
        "    y=df.iloc[lags+lookahead-1:,-1].values\n",
        "\n",
        "    ## Shifting the rows in dataframe by 0..1...,lag-1\n",
        "    columns = [df.shift(i) for i in range(lags-1,0,-1)]\n",
        "    columns.append(df)\n",
        "    df = pd.concat(columns,axis=1)\n",
        "    df = df.dropna()\n",
        "\n",
        "    #get X and reshape it into (number of samples, lags, no_features)\n",
        "    x=df[:-lookahead].to_numpy()\n",
        "    x = np.reshape(x,(x.shape[0],lags,no_features))\n",
        "    \n",
        "    ## Create a dataframe of X and Y and return it\n",
        "    windows = pd.DataFrame()\n",
        "    windows = windows.append({\"x\":x},ignore_index=True).explode(\"x\",ignore_index=True)\n",
        "    windows[\"y\"] = y\n",
        "    return windows\n",
        "\n"
      ],
      "execution_count": null,
      "outputs": []
    },
    {
      "cell_type": "code",
      "metadata": {
        "id": "hyNA9dWdB0Xy"
      },
      "source": [
        "#Preparing lagged data\n",
        "lags=7\n",
        "lookahead=7\n",
        "no_features=10\n",
        "\n",
        "lagged_df_train = pd.DataFrame()\n",
        "lagged_df_test = pd.DataFrame()\n",
        "lagged_df_val = pd.DataFrame()\n",
        "\n",
        "for state in df['Province_State'].unique():\n",
        "  #Reindex column names for the target variable to be at the end\n",
        "  column_Names=[\"Active\", \"Deaths\",\t\"Incident_Rate\", \"Mortality_Rate\",\t\"People_Tested\", \"Recovered\",\t\"Testing_Rate\",\t\"day of the month\",\t\"day of the week\", \"Confirmed\"]\n",
        "  \n",
        "  data_train = train_ds[state].reindex(columns=column_Names)\n",
        "  data_test = test_ds[state].reindex(columns=column_Names)\n",
        "  data_val = val_ds[state].reindex(columns=column_Names)\n",
        "\n",
        "  \n",
        "  lagged_window_train = lag_dataframe(data_train, lags, no_features, lookahead)\n",
        "  lagged_window_test = lag_dataframe(data_test,lags,no_features,lookahead)\n",
        "  lagged_window_val = lag_dataframe(data_val,lags,no_features,lookahead)\n",
        "  #Adding back Province state\n",
        "  lagged_window_train['Province_State'] = state\n",
        "  lagged_window_test['Province_State']= state\n",
        "  lagged_window_val['Province_State']= state\n",
        "  #Adding the above generated data into new data frame\n",
        "  lagged_df_train = lagged_df_train.append(lagged_window_train)\n",
        "  lagged_df_test = lagged_df_test.append(lagged_window_test)\n",
        "  lagged_df_val = lagged_df_val.append(lagged_window_val)\n",
        "\n"
      ],
      "execution_count": null,
      "outputs": []
    },
    {
      "cell_type": "markdown",
      "metadata": {
        "id": "yv86BOSximQ_"
      },
      "source": [
        "## Preparing Metadata:\n",
        "\n",
        "One-hot-encode the province_State variable in train/test/ and validation sets. "
      ]
    },
    {
      "cell_type": "code",
      "metadata": {
        "id": "3sPSAMoa62tv"
      },
      "source": [
        "# Create a copy test variable for baseline model without the one-hot encoded state variable\n",
        "lagged_df_test_forBL = lagged_df_test.copy()\n",
        "\n",
        "# One hot encoded state variable\n",
        "lagged_df_train = pd.get_dummies(lagged_df_test, columns= ['Province_State'])\n",
        "lagged_df_test = pd.get_dummies(lagged_df_test, columns= ['Province_State'])\n",
        "lagged_df_val = pd.get_dummies(lagged_df_val, columns= ['Province_State'])"
      ],
      "execution_count": null,
      "outputs": []
    },
    {
      "cell_type": "markdown",
      "metadata": {
        "id": "S6_8ARmG-Ijw"
      },
      "source": [
        "## Baseline Model"
      ]
    },
    {
      "cell_type": "code",
      "metadata": {
        "id": "M6YWKMh79lqy",
        "colab": {
          "base_uri": "https://localhost:8080/"
        },
        "outputId": "745487e2-db2c-4ce3-b29f-2d3980396e67"
      },
      "source": [
        "def Naive_Baseline_Model():\n",
        "  \n",
        "  # list for states Mean Absolute Errors\n",
        "  states_maes = []\n",
        "  \n",
        "  for state in lagged_df_test_forBL['Province_State'].unique():\n",
        "    \n",
        "    # filter for the specific state\n",
        "    inputs = lagged_df_test_forBL[lagged_df_test_forBL['Province_State'].isin([state])]['x'].copy().values\n",
        "    targets = lagged_df_test_forBL[lagged_df_test_forBL['Province_State'].isin([state])]['y'].copy().values\n",
        "\n",
        "    #set the prediction to the last number of cases in the input window. Second index represents last time window, third index represents the target variable which is confirmed cases.\n",
        "    preds = np.array(inputs.tolist(),dtype=np.float32)[:, -1, -1]\n",
        "\n",
        "    #compute the mae for the current state\n",
        "    mae = np.mean(np.abs(preds - targets))\n",
        "    \n",
        "    #store mae in batch_maes\n",
        "    states_maes.append(mae)\n",
        "\n",
        "  return np.mean(states_maes)\n",
        "\n",
        "#call the method\n",
        "mae_baseline = Naive_Baseline_Model()\n",
        "print('MAE for Baseline Model: ', mae_baseline)"
      ],
      "execution_count": null,
      "outputs": [
        {
          "output_type": "stream",
          "text": [
            "MAE for Baseline Model:  0.9563319597167959\n"
          ],
          "name": "stdout"
        }
      ]
    },
    {
      "cell_type": "markdown",
      "metadata": {
        "id": "2ln5XO-UC5cc"
      },
      "source": [
        "## Fully Connected Model"
      ]
    },
    {
      "cell_type": "code",
      "metadata": {
        "id": "J0NJqAhoFfRq"
      },
      "source": [
        "from tensorflow.keras import Input\n",
        "from tensorflow.keras.models import Model\n",
        "from tensorflow.keras.layers import LSTM, Embedding, Dense, Flatten, Dropout, concatenate, GRU, Dropout\n",
        "from tensorflow.keras import regularizers\n",
        "from tensorflow.keras.utils import plot_model"
      ],
      "execution_count": null,
      "outputs": []
    },
    {
      "cell_type": "code",
      "metadata": {
        "id": "Zra7-RzVwEDk"
      },
      "source": [
        "def plotLearningCurve():\n",
        "  plt.plot(range(0,len(history.history[\"loss\"])),history.history[\"loss\"],'b')\n",
        "  plt.plot(range(0,len(history.history[\"val_loss\"])),history.history[\"val_loss\"],'r')\n",
        "  plt.ylabel('loss')\n",
        "  plt.xlabel('iterations')\n",
        "  plt.show()"
      ],
      "execution_count": null,
      "outputs": []
    },
    {
      "cell_type": "code",
      "metadata": {
        "id": "VDg6mOi5F29D"
      },
      "source": [
        "INPUT_DIM_1 = (7,10)\n",
        "INPUT_DIM_2 = 55"
      ],
      "execution_count": null,
      "outputs": []
    },
    {
      "cell_type": "code",
      "metadata": {
        "id": "og6dMsh4_KV3"
      },
      "source": [
        "# Metadata Input Layer\n",
        "input2 = Input(shape=INPUT_DIM_2)\n",
        "#fc_layer1 = Dense(256, activation='relu')(input2)\n",
        "\n",
        "# Temporal Input Layer\n",
        "input1 = Input(shape=INPUT_DIM_1)\n",
        "flatten1 = Flatten()(input1)\n",
        "\n",
        "# Combine both outputs\n",
        "#concat1 = concatenate([fc_layer1, flatten1], axis= 1)\n",
        "concat1 = concatenate([input2, flatten1], axis= 1)\n",
        "\n",
        "# Output\n",
        "fc_layer2 = Dense(256, activation='relu')(concat1)\n",
        "#dropout1 = Dropout(0.5)(fc_layer2)\n",
        "#fc_layer3 = Dense(128, activation='relu')(dropout1)\n",
        "\n",
        "fc_layer3 = Dense(128, activation='relu')(fc_layer2)\n",
        "output = Dense(1)(fc_layer3)\n",
        "\n",
        "# Combine Model\n",
        "baselineModel = Model(inputs=[input1, input2], outputs=output)\n",
        "\n",
        "# Optimizer definition\n",
        "opt = Adam()\n",
        "\n",
        "# Compiling the model\n",
        "baselineModel.compile(loss='mae', optimizer= opt)"
      ],
      "execution_count": null,
      "outputs": []
    },
    {
      "cell_type": "code",
      "metadata": {
        "colab": {
          "base_uri": "https://localhost:8080/",
          "height": 644
        },
        "id": "fNslUY4PC_Mh",
        "outputId": "681c9958-509f-41ca-f1bf-91d333ce0fc7"
      },
      "source": [
        "plot_model(baselineModel, to_file='baselineModel.png', show_shapes=True)"
      ],
      "execution_count": null,
      "outputs": [
        {
          "output_type": "execute_result",
          "data": {
            "image/png": "[encoded data removed]",
            "text/plain": [
              "<IPython.core.display.Image object>"
            ]
          },
          "metadata": {
            "tags": []
          },
          "execution_count": 48
        }
      ]
    },
    {
      "cell_type": "code",
      "metadata": {
        "id": "3lX3Vd-aGSNT",
        "colab": {
          "base_uri": "https://localhost:8080/"
        },
        "outputId": "8cfe3c01-ffd7-4660-9ebd-f7961170c47b"
      },
      "source": [
        "lr_schedule = keras.optimizers.schedules.ExponentialDecay(\n",
        "    initial_learning_rate=1e-3,\n",
        "    decay_steps=1000,\n",
        "    decay_rate=0.9)\n",
        "\n",
        "#callback for early stopping\n",
        "callback = tf.keras.callbacks.EarlyStopping(monitor='val_loss', patience=20, min_delta=1e-3, restore_best_weights=True)\n",
        "\n",
        "#start the training\n",
        "history = baselineModel.fit(\n",
        "            x = [np.array(lagged_df_train['x'].to_numpy().tolist(),dtype=np.float32), lagged_df_train.iloc[:, 2:]],\n",
        "            y = lagged_df_train.iloc[:, 1],\n",
        "            epochs = 100,\n",
        "            batch_size = 1,\n",
        "            validation_data = ([np.array(lagged_df_val['x'].to_numpy().tolist(),dtype=np.float32), lagged_df_val.iloc[:, 2:]], lagged_df_val.iloc[:, 1]),\n",
        "            callbacks=callback,\n",
        "            verbose = 1)"
      ],
      "execution_count": null,
      "outputs": [
        {
          "output_type": "stream",
          "text": [
            "Epoch 1/100\n",
            "1264/1264 [==============================] - 3s 2ms/step - loss: 0.4455 - val_loss: 0.1783\n",
            "Epoch 2/100\n",
            "1264/1264 [==============================] - 3s 2ms/step - loss: 0.2019 - val_loss: 0.1894\n",
            "Epoch 3/100\n",
            "1264/1264 [==============================] - 3s 2ms/step - loss: 0.1730 - val_loss: 0.1419\n",
            "Epoch 4/100\n",
            "1264/1264 [==============================] - 3s 2ms/step - loss: 0.1543 - val_loss: 0.2000\n",
            "Epoch 5/100\n",
            "1264/1264 [==============================] - 3s 2ms/step - loss: 0.1508 - val_loss: 0.1168\n",
            "Epoch 6/100\n",
            "1264/1264 [==============================] - 3s 2ms/step - loss: 0.1440 - val_loss: 0.1157\n",
            "Epoch 7/100\n",
            "1264/1264 [==============================] - 3s 2ms/step - loss: 0.1260 - val_loss: 0.1293\n",
            "Epoch 8/100\n",
            "1264/1264 [==============================] - 3s 2ms/step - loss: 0.1240 - val_loss: 0.1274\n",
            "Epoch 9/100\n",
            "1264/1264 [==============================] - 3s 2ms/step - loss: 0.1152 - val_loss: 0.0913\n",
            "Epoch 10/100\n",
            "1264/1264 [==============================] - 3s 2ms/step - loss: 0.1073 - val_loss: 0.0831\n",
            "Epoch 11/100\n",
            "1264/1264 [==============================] - 3s 2ms/step - loss: 0.0983 - val_loss: 0.1089\n",
            "Epoch 12/100\n",
            "1264/1264 [==============================] - 3s 2ms/step - loss: 0.0965 - val_loss: 0.0885\n",
            "Epoch 13/100\n",
            "1264/1264 [==============================] - 3s 2ms/step - loss: 0.0939 - val_loss: 0.0881\n",
            "Epoch 14/100\n",
            "1264/1264 [==============================] - 3s 2ms/step - loss: 0.0866 - val_loss: 0.0621\n",
            "Epoch 15/100\n",
            "1264/1264 [==============================] - 3s 2ms/step - loss: 0.0829 - val_loss: 0.1169\n",
            "Epoch 16/100\n",
            "1264/1264 [==============================] - 3s 2ms/step - loss: 0.0824 - val_loss: 0.0695\n",
            "Epoch 17/100\n",
            "1264/1264 [==============================] - 3s 2ms/step - loss: 0.0796 - val_loss: 0.0741\n",
            "Epoch 18/100\n",
            "1264/1264 [==============================] - 3s 2ms/step - loss: 0.0750 - val_loss: 0.0767\n",
            "Epoch 19/100\n",
            "1264/1264 [==============================] - 3s 2ms/step - loss: 0.0757 - val_loss: 0.0705\n",
            "Epoch 20/100\n",
            "1264/1264 [==============================] - 3s 2ms/step - loss: 0.0778 - val_loss: 0.0746\n",
            "Epoch 21/100\n",
            "1264/1264 [==============================] - 3s 2ms/step - loss: 0.0726 - val_loss: 0.0781\n",
            "Epoch 22/100\n",
            "1264/1264 [==============================] - 3s 2ms/step - loss: 0.0722 - val_loss: 0.0741\n",
            "Epoch 23/100\n",
            "1264/1264 [==============================] - 3s 2ms/step - loss: 0.0784 - val_loss: 0.0691\n",
            "Epoch 24/100\n",
            "1264/1264 [==============================] - 3s 2ms/step - loss: 0.0735 - val_loss: 0.0759\n",
            "Epoch 25/100\n",
            "1264/1264 [==============================] - 3s 2ms/step - loss: 0.0660 - val_loss: 0.0795\n",
            "Epoch 26/100\n",
            "1264/1264 [==============================] - 3s 2ms/step - loss: 0.0697 - val_loss: 0.0737\n",
            "Epoch 27/100\n",
            "1264/1264 [==============================] - 3s 2ms/step - loss: 0.0728 - val_loss: 0.0736\n",
            "Epoch 28/100\n",
            "1264/1264 [==============================] - 3s 2ms/step - loss: 0.0651 - val_loss: 0.0514\n",
            "Epoch 29/100\n",
            "1264/1264 [==============================] - 3s 2ms/step - loss: 0.0637 - val_loss: 0.0488\n",
            "Epoch 30/100\n",
            "1264/1264 [==============================] - 3s 2ms/step - loss: 0.0617 - val_loss: 0.0690\n",
            "Epoch 31/100\n",
            "1264/1264 [==============================] - 3s 2ms/step - loss: 0.0607 - val_loss: 0.0768\n",
            "Epoch 32/100\n",
            "1264/1264 [==============================] - 3s 2ms/step - loss: 0.0597 - val_loss: 0.0584\n",
            "Epoch 33/100\n",
            "1264/1264 [==============================] - 3s 2ms/step - loss: 0.0589 - val_loss: 0.0495\n",
            "Epoch 34/100\n",
            "1264/1264 [==============================] - 3s 2ms/step - loss: 0.0573 - val_loss: 0.0667\n",
            "Epoch 35/100\n",
            "1264/1264 [==============================] - 3s 2ms/step - loss: 0.0583 - val_loss: 0.0634\n",
            "Epoch 36/100\n",
            "1264/1264 [==============================] - 3s 2ms/step - loss: 0.0566 - val_loss: 0.0601\n",
            "Epoch 37/100\n",
            "1264/1264 [==============================] - 3s 2ms/step - loss: 0.0546 - val_loss: 0.0531\n",
            "Epoch 38/100\n",
            "1264/1264 [==============================] - 3s 2ms/step - loss: 0.0584 - val_loss: 0.0484\n",
            "Epoch 39/100\n",
            "1264/1264 [==============================] - 3s 2ms/step - loss: 0.0555 - val_loss: 0.0503\n",
            "Epoch 40/100\n",
            "1264/1264 [==============================] - 3s 2ms/step - loss: 0.0504 - val_loss: 0.0688\n",
            "Epoch 41/100\n",
            "1264/1264 [==============================] - 3s 2ms/step - loss: 0.0525 - val_loss: 0.0605\n",
            "Epoch 42/100\n",
            "1264/1264 [==============================] - 3s 2ms/step - loss: 0.0538 - val_loss: 0.0519\n",
            "Epoch 43/100\n",
            "1264/1264 [==============================] - 3s 2ms/step - loss: 0.0510 - val_loss: 0.0528\n",
            "Epoch 44/100\n",
            "1264/1264 [==============================] - 3s 2ms/step - loss: 0.0518 - val_loss: 0.0568\n",
            "Epoch 45/100\n",
            "1264/1264 [==============================] - 3s 2ms/step - loss: 0.0508 - val_loss: 0.0420\n",
            "Epoch 46/100\n",
            "1264/1264 [==============================] - 3s 2ms/step - loss: 0.0526 - val_loss: 0.0483\n",
            "Epoch 47/100\n",
            "1264/1264 [==============================] - 3s 2ms/step - loss: 0.0518 - val_loss: 0.0510\n",
            "Epoch 48/100\n",
            "1264/1264 [==============================] - 3s 2ms/step - loss: 0.0498 - val_loss: 0.0479\n",
            "Epoch 49/100\n",
            "1264/1264 [==============================] - 3s 2ms/step - loss: 0.0530 - val_loss: 0.0456\n",
            "Epoch 50/100\n",
            "1264/1264 [==============================] - 3s 2ms/step - loss: 0.0482 - val_loss: 0.0615\n",
            "Epoch 51/100\n",
            "1264/1264 [==============================] - 3s 2ms/step - loss: 0.0504 - val_loss: 0.0524\n",
            "Epoch 52/100\n",
            "1264/1264 [==============================] - 3s 2ms/step - loss: 0.0500 - val_loss: 0.0561\n",
            "Epoch 53/100\n",
            "1264/1264 [==============================] - 3s 2ms/step - loss: 0.0503 - val_loss: 0.0488\n",
            "Epoch 54/100\n",
            "1264/1264 [==============================] - 3s 2ms/step - loss: 0.0500 - val_loss: 0.0418\n",
            "Epoch 55/100\n",
            "1264/1264 [==============================] - 3s 2ms/step - loss: 0.0487 - val_loss: 0.0539\n",
            "Epoch 56/100\n",
            "1264/1264 [==============================] - 3s 2ms/step - loss: 0.0492 - val_loss: 0.0434\n",
            "Epoch 57/100\n",
            "1264/1264 [==============================] - 3s 2ms/step - loss: 0.0472 - val_loss: 0.0393\n",
            "Epoch 58/100\n",
            "1264/1264 [==============================] - 3s 2ms/step - loss: 0.0474 - val_loss: 0.0506\n",
            "Epoch 59/100\n",
            "1264/1264 [==============================] - 3s 2ms/step - loss: 0.0488 - val_loss: 0.0530\n",
            "Epoch 60/100\n",
            "1264/1264 [==============================] - 3s 2ms/step - loss: 0.0468 - val_loss: 0.0419\n",
            "Epoch 61/100\n",
            "1264/1264 [==============================] - 3s 2ms/step - loss: 0.0434 - val_loss: 0.0515\n",
            "Epoch 62/100\n",
            "1264/1264 [==============================] - 3s 2ms/step - loss: 0.0472 - val_loss: 0.0448\n",
            "Epoch 63/100\n",
            "1264/1264 [==============================] - 3s 2ms/step - loss: 0.0461 - val_loss: 0.0418\n",
            "Epoch 64/100\n",
            "1264/1264 [==============================] - 3s 2ms/step - loss: 0.0438 - val_loss: 0.0509\n",
            "Epoch 65/100\n",
            "1264/1264 [==============================] - 3s 2ms/step - loss: 0.0445 - val_loss: 0.0469\n",
            "Epoch 66/100\n",
            "1264/1264 [==============================] - 3s 2ms/step - loss: 0.0470 - val_loss: 0.0412\n",
            "Epoch 67/100\n",
            "1264/1264 [==============================] - 3s 2ms/step - loss: 0.0434 - val_loss: 0.0496\n",
            "Epoch 68/100\n",
            "1264/1264 [==============================] - 3s 2ms/step - loss: 0.0414 - val_loss: 0.0405\n",
            "Epoch 69/100\n",
            "1264/1264 [==============================] - 3s 2ms/step - loss: 0.0413 - val_loss: 0.0442\n",
            "Epoch 70/100\n",
            "1264/1264 [==============================] - 3s 2ms/step - loss: 0.0451 - val_loss: 0.0442\n",
            "Epoch 71/100\n",
            "1264/1264 [==============================] - 3s 2ms/step - loss: 0.0425 - val_loss: 0.0541\n",
            "Epoch 72/100\n",
            "1264/1264 [==============================] - 3s 2ms/step - loss: 0.0442 - val_loss: 0.0373\n",
            "Epoch 73/100\n",
            "1264/1264 [==============================] - 3s 2ms/step - loss: 0.0407 - val_loss: 0.0333\n",
            "Epoch 74/100\n",
            "1264/1264 [==============================] - 3s 2ms/step - loss: 0.0413 - val_loss: 0.0365\n",
            "Epoch 75/100\n",
            "1264/1264 [==============================] - 3s 2ms/step - loss: 0.0421 - val_loss: 0.0557\n",
            "Epoch 76/100\n",
            "1264/1264 [==============================] - 3s 2ms/step - loss: 0.0427 - val_loss: 0.0421\n",
            "Epoch 77/100\n",
            "1264/1264 [==============================] - 3s 2ms/step - loss: 0.0405 - val_loss: 0.0364\n",
            "Epoch 78/100\n",
            "1264/1264 [==============================] - 3s 2ms/step - loss: 0.0413 - val_loss: 0.0408\n",
            "Epoch 79/100\n",
            "1264/1264 [==============================] - 3s 2ms/step - loss: 0.0408 - val_loss: 0.0472\n",
            "Epoch 80/100\n",
            "1264/1264 [==============================] - 3s 2ms/step - loss: 0.0456 - val_loss: 0.0419\n",
            "Epoch 81/100\n",
            "1264/1264 [==============================] - 3s 2ms/step - loss: 0.0422 - val_loss: 0.0534\n",
            "Epoch 82/100\n",
            "1264/1264 [==============================] - 3s 2ms/step - loss: 0.0391 - val_loss: 0.0343\n",
            "Epoch 83/100\n",
            "1264/1264 [==============================] - 3s 2ms/step - loss: 0.0390 - val_loss: 0.0440\n",
            "Epoch 84/100\n",
            "1264/1264 [==============================] - 3s 2ms/step - loss: 0.0441 - val_loss: 0.0382\n",
            "Epoch 85/100\n",
            "1264/1264 [==============================] - 3s 2ms/step - loss: 0.0397 - val_loss: 0.0350\n",
            "Epoch 86/100\n",
            "1264/1264 [==============================] - 3s 2ms/step - loss: 0.0397 - val_loss: 0.0453\n",
            "Epoch 87/100\n",
            "1264/1264 [==============================] - 3s 2ms/step - loss: 0.0444 - val_loss: 0.0490\n",
            "Epoch 88/100\n",
            "1264/1264 [==============================] - 3s 2ms/step - loss: 0.0404 - val_loss: 0.0499\n",
            "Epoch 89/100\n",
            "1264/1264 [==============================] - 3s 2ms/step - loss: 0.0398 - val_loss: 0.0394\n",
            "Epoch 90/100\n",
            "1264/1264 [==============================] - 3s 2ms/step - loss: 0.0396 - val_loss: 0.0387\n",
            "Epoch 91/100\n",
            "1264/1264 [==============================] - 3s 2ms/step - loss: 0.0388 - val_loss: 0.0439\n",
            "Epoch 92/100\n",
            "1264/1264 [==============================] - 3s 2ms/step - loss: 0.0416 - val_loss: 0.0368\n",
            "Epoch 93/100\n",
            "1264/1264 [==============================] - 3s 2ms/step - loss: 0.0386 - val_loss: 0.0449\n"
          ],
          "name": "stdout"
        }
      ]
    },
    {
      "cell_type": "code",
      "metadata": {
        "id": "7Ijw22doOaO6",
        "colab": {
          "base_uri": "https://localhost:8080/",
          "height": 278
        },
        "outputId": "be28d054-c69e-49e1-f0f2-85dd89673d08"
      },
      "source": [
        "plotLearningCurve()"
      ],
      "execution_count": null,
      "outputs": [
        {
          "output_type": "display_data",
          "data": {
            "image/png": "[encoded data removed]",
            "text/plain": [
              "<Figure size 432x288 with 1 Axes>"
            ]
          },
          "metadata": {
            "tags": [],
            "needs_background": "light"
          }
        }
      ]
    },
    {
      "cell_type": "code",
      "metadata": {
        "colab": {
          "base_uri": "https://localhost:8080/"
        },
        "id": "fOENgqX948nP",
        "outputId": "4b323893-3960-4e01-e063-cb56e701f2db"
      },
      "source": [
        "model1_MAE = baselineModel.evaluate(x = [np.array(lagged_df_test['x'].to_numpy().tolist(),dtype=np.float32), lagged_df_test.iloc[:, 2:]],\n",
        "                       y = lagged_df_test.iloc[:, 1])\n",
        "print('MAE for Simple Fully Connected Model: ', model1_MAE)"
      ],
      "execution_count": null,
      "outputs": [
        {
          "output_type": "stream",
          "text": [
            "40/40 [==============================] - 0s 2ms/step - loss: 0.0333\n",
            "MAE for Simple Fully Connected Model:  0.033332038670778275\n"
          ],
          "name": "stdout"
        }
      ]
    },
    {
      "cell_type": "markdown",
      "metadata": {
        "id": "JSFPuyOJkMTt"
      },
      "source": [
        "## Note:\n",
        "\n",
        "You can observe that the mean absolute error decreased way more from baseline model - 0.9 to 0.03 which is appreciative. Also, there is minute difference between validation loss and training loss which says that the model is not overfitting."
      ]
    },
    {
      "cell_type": "markdown",
      "metadata": {
        "id": "_xLozz0Syx0z"
      },
      "source": [
        "## Modified model - RNN"
      ]
    },
    {
      "cell_type": "code",
      "metadata": {
        "id": "Ywl0i2fNyJYR"
      },
      "source": [
        "# Metadata Input Layer\n",
        "input2 = Input(shape=INPUT_DIM_2)\n",
        "fc_layer1 = Dense(256, activation='relu')(input2)\n",
        "\n",
        "# Temporal Input Layer\n",
        "input1 = Input(shape=INPUT_DIM_1)\n",
        "gru1 = GRU(64, dropout=0.1, recurrent_dropout=0.5, kernel_regularizer=regularizers.l2(0.001), recurrent_regularizer=regularizers.l2(0.001))(input1)\n",
        "\n",
        "# Combine both outputs\n",
        "concat1 = concatenate([fc_layer1, gru1], axis= 1)\n",
        "\n",
        "# Output\n",
        "fc_layer2 = Dense(128, activation='relu')(concat1)\n",
        "dropout1 = Dropout(0.2)(fc_layer2)\n",
        "output = Dense(1)(dropout1)\n",
        "\n",
        "# Combine Model\n",
        "modifiedModel = Model(inputs=[input1, input2], outputs=output)\n",
        "\n",
        "# Optimizer definition\n",
        "opt = Adam()\n",
        "\n",
        "# Compiling the model\n",
        "modifiedModel.compile(loss='mae', optimizer= opt)"
      ],
      "execution_count": null,
      "outputs": []
    },
    {
      "cell_type": "code",
      "metadata": {
        "colab": {
          "base_uri": "https://localhost:8080/",
          "height": 644
        },
        "id": "NJpkMrNh0h0s",
        "outputId": "fd0cb063-9935-4509-87e1-14f7132411c8"
      },
      "source": [
        "plot_model(modifiedModel, to_file='baselineModel.png', show_shapes=True)"
      ],
      "execution_count": null,
      "outputs": [
        {
          "output_type": "execute_result",
          "data": {
            "image/png": "[encoded data removed]",
            "text/plain": [
              "<IPython.core.display.Image object>"
            ]
          },
          "metadata": {
            "tags": []
          },
          "execution_count": 53
        }
      ]
    },
    {
      "cell_type": "code",
      "metadata": {
        "colab": {
          "base_uri": "https://localhost:8080/"
        },
        "id": "zvRzCQHI1xb7",
        "outputId": "60ea361f-fe40-4345-f77d-df6014a39f19"
      },
      "source": [
        "\n",
        "lr_schedule = keras.optimizers.schedules.ExponentialDecay(\n",
        "    initial_learning_rate=1e-3,\n",
        "    decay_steps=1000,\n",
        "    decay_rate=0.9)\n",
        "\n",
        "#callback for early stopping\n",
        "callback = tf.keras.callbacks.EarlyStopping(monitor='val_loss', patience=20, min_delta=1e-3, restore_best_weights=True)\n",
        "\n",
        "#start the training\n",
        "history = modifiedModel.fit(\n",
        "            x = [np.array(lagged_df_train['x'].to_numpy().tolist(),dtype=np.float32), lagged_df_train.iloc[:, 2:]],\n",
        "            y = lagged_df_train.iloc[:, 1],\n",
        "            epochs = 100,\n",
        "            batch_size = 1,\n",
        "            validation_data = ([np.array(lagged_df_val['x'].to_numpy().tolist(),dtype=np.float32), lagged_df_val.iloc[:, 2:]], lagged_df_val.iloc[:, 1]),\n",
        "            callbacks=callback,\n",
        "            verbose = 1)"
      ],
      "execution_count": null,
      "outputs": [
        {
          "output_type": "stream",
          "text": [
            "Epoch 1/100\n",
            "1264/1264 [==============================] - 9s 7ms/step - loss: 0.2039 - val_loss: 0.1244\n",
            "Epoch 2/100\n",
            "1264/1264 [==============================] - 10s 8ms/step - loss: 0.1987 - val_loss: 0.1484\n",
            "Epoch 3/100\n",
            "1264/1264 [==============================] - 9s 7ms/step - loss: 0.1963 - val_loss: 0.1300\n",
            "Epoch 4/100\n",
            "1264/1264 [==============================] - 9s 7ms/step - loss: 0.2022 - val_loss: 0.1426\n",
            "Epoch 5/100\n",
            "1264/1264 [==============================] - 9s 7ms/step - loss: 0.1911 - val_loss: 0.1778\n",
            "Epoch 6/100\n",
            "1264/1264 [==============================] - 9s 7ms/step - loss: 0.1905 - val_loss: 0.1223\n",
            "Epoch 7/100\n",
            "1264/1264 [==============================] - 9s 7ms/step - loss: 0.1965 - val_loss: 0.1205\n",
            "Epoch 8/100\n",
            "1264/1264 [==============================] - 9s 7ms/step - loss: 0.1872 - val_loss: 0.1093\n",
            "Epoch 9/100\n",
            "1264/1264 [==============================] - 9s 8ms/step - loss: 0.1958 - val_loss: 0.1451\n",
            "Epoch 10/100\n",
            "1264/1264 [==============================] - 10s 8ms/step - loss: 0.1986 - val_loss: 0.1220\n",
            "Epoch 11/100\n",
            "1264/1264 [==============================] - 10s 8ms/step - loss: 0.1896 - val_loss: 0.1500\n",
            "Epoch 12/100\n",
            "1264/1264 [==============================] - 10s 8ms/step - loss: 0.1978 - val_loss: 0.1122\n",
            "Epoch 13/100\n",
            "1264/1264 [==============================] - 10s 8ms/step - loss: 0.1955 - val_loss: 0.1082\n",
            "Epoch 14/100\n",
            "1264/1264 [==============================] - 9s 7ms/step - loss: 0.1977 - val_loss: 0.1396\n",
            "Epoch 15/100\n",
            "1264/1264 [==============================] - 9s 7ms/step - loss: 0.1954 - val_loss: 0.1566\n",
            "Epoch 16/100\n",
            "1264/1264 [==============================] - 10s 8ms/step - loss: 0.1981 - val_loss: 0.1340\n",
            "Epoch 17/100\n",
            "1264/1264 [==============================] - 10s 8ms/step - loss: 0.1942 - val_loss: 0.1130\n",
            "Epoch 18/100\n",
            "1264/1264 [==============================] - 9s 7ms/step - loss: 0.1908 - val_loss: 0.1321\n",
            "Epoch 19/100\n",
            "1264/1264 [==============================] - 9s 7ms/step - loss: 0.1836 - val_loss: 0.1605\n",
            "Epoch 20/100\n",
            "1264/1264 [==============================] - 9s 7ms/step - loss: 0.1903 - val_loss: 0.1235\n",
            "Epoch 21/100\n",
            "1264/1264 [==============================] - 9s 7ms/step - loss: 0.1960 - val_loss: 0.1288\n",
            "Epoch 22/100\n",
            "1264/1264 [==============================] - 9s 7ms/step - loss: 0.1945 - val_loss: 0.1214\n",
            "Epoch 23/100\n",
            "1264/1264 [==============================] - 9s 7ms/step - loss: 0.1891 - val_loss: 0.1369\n",
            "Epoch 24/100\n",
            "1264/1264 [==============================] - 9s 7ms/step - loss: 0.1898 - val_loss: 0.1276\n",
            "Epoch 25/100\n",
            "1264/1264 [==============================] - 10s 8ms/step - loss: 0.1906 - val_loss: 0.1009\n",
            "Epoch 26/100\n",
            "1264/1264 [==============================] - 10s 8ms/step - loss: 0.1852 - val_loss: 0.1491\n",
            "Epoch 27/100\n",
            "1264/1264 [==============================] - 10s 8ms/step - loss: 0.1958 - val_loss: 0.1213\n",
            "Epoch 28/100\n",
            "1264/1264 [==============================] - 9s 7ms/step - loss: 0.1765 - val_loss: 0.1310\n",
            "Epoch 29/100\n",
            "1264/1264 [==============================] - 9s 7ms/step - loss: 0.1857 - val_loss: 0.1253\n",
            "Epoch 30/100\n",
            "1264/1264 [==============================] - 10s 8ms/step - loss: 0.1802 - val_loss: 0.1051\n",
            "Epoch 31/100\n",
            "1264/1264 [==============================] - 10s 8ms/step - loss: 0.1893 - val_loss: 0.1522\n",
            "Epoch 32/100\n",
            "1264/1264 [==============================] - 10s 8ms/step - loss: 0.1825 - val_loss: 0.1039\n",
            "Epoch 33/100\n",
            "1264/1264 [==============================] - 10s 8ms/step - loss: 0.1850 - val_loss: 0.1926\n",
            "Epoch 34/100\n",
            "1264/1264 [==============================] - 10s 8ms/step - loss: 0.1798 - val_loss: 0.1276\n",
            "Epoch 35/100\n",
            "1264/1264 [==============================] - 10s 8ms/step - loss: 0.1885 - val_loss: 0.1099\n",
            "Epoch 36/100\n",
            "1264/1264 [==============================] - 10s 8ms/step - loss: 0.1853 - val_loss: 0.0991\n",
            "Epoch 37/100\n",
            "1264/1264 [==============================] - 10s 8ms/step - loss: 0.1854 - val_loss: 0.1271\n",
            "Epoch 38/100\n",
            "1264/1264 [==============================] - 10s 8ms/step - loss: 0.1809 - val_loss: 0.1598\n",
            "Epoch 39/100\n",
            "1264/1264 [==============================] - 10s 8ms/step - loss: 0.1827 - val_loss: 0.1307\n",
            "Epoch 40/100\n",
            "1264/1264 [==============================] - 10s 8ms/step - loss: 0.1808 - val_loss: 0.1210\n",
            "Epoch 41/100\n",
            "1264/1264 [==============================] - 10s 8ms/step - loss: 0.1847 - val_loss: 0.1276\n",
            "Epoch 42/100\n",
            "1264/1264 [==============================] - 10s 8ms/step - loss: 0.1802 - val_loss: 0.1019\n",
            "Epoch 43/100\n",
            "1264/1264 [==============================] - 10s 8ms/step - loss: 0.1819 - val_loss: 0.1179\n",
            "Epoch 44/100\n",
            "1264/1264 [==============================] - 10s 8ms/step - loss: 0.1782 - val_loss: 0.1364\n",
            "Epoch 45/100\n",
            "1264/1264 [==============================] - 10s 8ms/step - loss: 0.1801 - val_loss: 0.1164\n",
            "Epoch 46/100\n",
            "1264/1264 [==============================] - 10s 8ms/step - loss: 0.1777 - val_loss: 0.1177\n",
            "Epoch 47/100\n",
            "1264/1264 [==============================] - 10s 8ms/step - loss: 0.1779 - val_loss: 0.1081\n",
            "Epoch 48/100\n",
            "1264/1264 [==============================] - 10s 8ms/step - loss: 0.1852 - val_loss: 0.1244\n",
            "Epoch 49/100\n",
            "1264/1264 [==============================] - 10s 8ms/step - loss: 0.1774 - val_loss: 0.1058\n",
            "Epoch 50/100\n",
            "1264/1264 [==============================] - 10s 8ms/step - loss: 0.1775 - val_loss: 0.1485\n",
            "Epoch 51/100\n",
            "1264/1264 [==============================] - 10s 8ms/step - loss: 0.1780 - val_loss: 0.1148\n",
            "Epoch 52/100\n",
            "1264/1264 [==============================] - 10s 8ms/step - loss: 0.1748 - val_loss: 0.0975\n",
            "Epoch 53/100\n",
            "1264/1264 [==============================] - 10s 8ms/step - loss: 0.1794 - val_loss: 0.1199\n",
            "Epoch 54/100\n",
            "1264/1264 [==============================] - 10s 8ms/step - loss: 0.1783 - val_loss: 0.1299\n",
            "Epoch 55/100\n",
            "1264/1264 [==============================] - 10s 8ms/step - loss: 0.1799 - val_loss: 0.1215\n",
            "Epoch 56/100\n",
            "1264/1264 [==============================] - 10s 8ms/step - loss: 0.1745 - val_loss: 0.0969\n",
            "Epoch 57/100\n",
            "1264/1264 [==============================] - 10s 8ms/step - loss: 0.1778 - val_loss: 0.1231\n",
            "Epoch 58/100\n",
            "1264/1264 [==============================] - 10s 8ms/step - loss: 0.1832 - val_loss: 0.1321\n",
            "Epoch 59/100\n",
            "1264/1264 [==============================] - 10s 8ms/step - loss: 0.1763 - val_loss: 0.1242\n",
            "Epoch 60/100\n",
            "1264/1264 [==============================] - 10s 8ms/step - loss: 0.1750 - val_loss: 0.1011\n",
            "Epoch 61/100\n",
            "1264/1264 [==============================] - 10s 8ms/step - loss: 0.1742 - val_loss: 0.1025\n",
            "Epoch 62/100\n",
            "1264/1264 [==============================] - 10s 8ms/step - loss: 0.1695 - val_loss: 0.1222\n",
            "Epoch 63/100\n",
            "1264/1264 [==============================] - 10s 8ms/step - loss: 0.1769 - val_loss: 0.1699\n",
            "Epoch 64/100\n",
            "1264/1264 [==============================] - 10s 8ms/step - loss: 0.1796 - val_loss: 0.1131\n",
            "Epoch 65/100\n",
            "1264/1264 [==============================] - 10s 8ms/step - loss: 0.1873 - val_loss: 0.1308\n",
            "Epoch 66/100\n",
            "1264/1264 [==============================] - 10s 8ms/step - loss: 0.1677 - val_loss: 0.1041\n",
            "Epoch 67/100\n",
            "1264/1264 [==============================] - 10s 8ms/step - loss: 0.1779 - val_loss: 0.1034\n",
            "Epoch 68/100\n",
            "1264/1264 [==============================] - 10s 8ms/step - loss: 0.1697 - val_loss: 0.1202\n",
            "Epoch 69/100\n",
            "1264/1264 [==============================] - 10s 8ms/step - loss: 0.1688 - val_loss: 0.1308\n",
            "Epoch 70/100\n",
            "1264/1264 [==============================] - 10s 8ms/step - loss: 0.1794 - val_loss: 0.0978\n",
            "Epoch 71/100\n",
            "1264/1264 [==============================] - 10s 8ms/step - loss: 0.1745 - val_loss: 0.1121\n",
            "Epoch 72/100\n",
            "1264/1264 [==============================] - 10s 8ms/step - loss: 0.1714 - val_loss: 0.1082\n"
          ],
          "name": "stdout"
        }
      ]
    },
    {
      "cell_type": "code",
      "metadata": {
        "colab": {
          "base_uri": "https://localhost:8080/",
          "height": 278
        },
        "id": "LBfwNT3P2YML",
        "outputId": "019fa887-4153-4430-9435-403491e1d42d"
      },
      "source": [
        "plotLearningCurve()"
      ],
      "execution_count": null,
      "outputs": [
        {
          "output_type": "display_data",
          "data": {
            "image/png": "[encoded data removed]",
            "text/plain": [
              "<Figure size 432x288 with 1 Axes>"
            ]
          },
          "metadata": {
            "tags": [],
            "needs_background": "light"
          }
        }
      ]
    },
    {
      "cell_type": "code",
      "metadata": {
        "colab": {
          "base_uri": "https://localhost:8080/"
        },
        "id": "miBg7rZ_4VFR",
        "outputId": "ef9ad299-95fb-426e-98b5-739c5a9ec75b"
      },
      "source": [
        "model2_MAE = modifiedModel.evaluate(x = [np.array(lagged_df_test['x'].to_numpy().tolist(),dtype=np.float32), lagged_df_test.iloc[:, 2:]],\n",
        "                       y = lagged_df_test.iloc[:, 1])\n",
        "print('MAE for Model with RNN: ', model2_MAE)"
      ],
      "execution_count": null,
      "outputs": [
        {
          "output_type": "stream",
          "text": [
            "40/40 [==============================] - 0s 3ms/step - loss: 0.0975\n",
            "MAE for Model with RNN:  0.09749439358711243\n"
          ],
          "name": "stdout"
        }
      ]
    },
    {
      "cell_type": "markdown",
      "metadata": {
        "id": "9F059er8nNi0"
      },
      "source": [
        "### Note:\n",
        "MAE for RNN model is 0.09 which is more than fully connected model. Thus its evident that Fully Connected model works better for this dataset than RNN model.\n"
      ]
    }
  ]
}